{
 "cells": [
  {
   "cell_type": "markdown",
   "metadata": {},
   "source": [
    "# Quiz 2\n",
    "*AMMI 2020, May 29th*"
   ]
  },
  {
   "cell_type": "markdown",
   "metadata": {},
   "source": [
    "***\n",
    "## Section 1 - Kernel mathematics\n",
    "You are encouraged to use the notation `s(k, x, a)` $ = \\sum_{i, j} a_i a_j k(x_i, x_j)$\n",
    "\n"
   ]
  },
  {
   "cell_type": "markdown",
   "metadata": {},
   "source": [
    "#### Question 1\n",
    "What are the conditions for $k: \\mathcal{X} \\times \\mathcal{X} \\to \\mathbb{R}$ to be a positive definite (p.d.) kernel?\n",
    "\n",
    "#### Solution a\n",
    "1. $k$ must be symmetric $k(x, y) = k(y, x)$\n",
    "2. For all `x` and `a`: `s(k, x, a)`$\\geq 0$ \n",
    "\n",
    "#### Solution b\n",
    "1. symmetric\n",
    "2. For every `x` the Gram-matrix $K_{ij} = k(x_i, x_j)$ is positive semi-definite\n",
    "\n",
    "#### Solution c\n",
    "There exists a Hilbert space $\\mathcal{H}$ and a mapping $\\Phi: \\mathcal{X} \\to \\mathcal{H}$ such that $k(x, y) = <\\Phi(x), \\Phi(y)>_\\mathcal{H}$"
   ]
  },
  {
   "cell_type": "markdown",
   "metadata": {},
   "source": [
    "#### Question 2\n",
    "\n",
    "Let $k: \\mathcal{X} \\times \\mathcal{X} \\to \\mathbb{R}$ be a p.d. kernel, and $f: \\mathcal{Y} \\to \\mathcal{X}$ a function.\n",
    "\n",
    "We define a new function $k': \\mathcal{Y} \\times \\mathcal{Y} \\to \\mathbb{R}$ by composing $f$ and $k$: $$k'(x, y) = k\\left(f(x),\\, f(y)\\right)$$\n",
    "Show that $k'$ is a p.d. kernel\n",
    "\n",
    "#### Solution\n",
    "\n",
    "1. $k'(x, y) = k(f(x), f(y)) = k(f(y), f(x)) = k'(y, x)$\n",
    " \n",
    " (Second equality is because $k$ is symmetric)\n",
    "\n",
    " So $k'$ is symmetric.\n",
    " \n",
    "2. Let $x_i \\in \\mathcal{X}$, $a_i \\in \\mathbb{R}$\n",
    "\n",
    " `s(k',x,a) = s(k,f(x),a) `$\\geq 0$ because $k$ is p.d."
   ]
  },
  {
   "cell_type": "markdown",
   "metadata": {},
   "source": [
    "***\n",
    "### Instructions for rest of section:\n",
    "\n",
    "For each of these functions $k:\\mathcal{X} \\times \\mathcal{X} \\to \\mathbb{R}$, state if they are p.d. or not. Prove your answer."
   ]
  },
  {
   "cell_type": "markdown",
   "metadata": {},
   "source": [
    "#### Question 3\n",
    "\n",
    "#### (a) $\\mathcal{X} = \\mathbb{R}$, $\\, \\,\\quad k_1(x, y) = xy$\n",
    "\n",
    "    YES\n",
    " - symmetric: OK\n",
    " - `s(k1,x,a)` $= \\left(\\sum_i a_ix_i\\right)^2 \\geq 0$\n",
    "\n",
    "#### (b) $\\mathcal{X} = \\mathbb{R^*}$, $\\quad k_2(x, y) = \\frac{1}{xy}$\n",
    "\n",
    "    YES\n",
    " - Direct application of question 2 with $f(x) = \\frac{1}{x}$ and $k=k_1$\n",
    " \n",
    "#### (c) $\\mathcal{X} = \\mathbb{R}$, $\\,\\,\\quad k_3(x, y) = \\min (x, y)$\n",
    "*We know from the course that $k$ is p.d. for non-negative numbers ($\\mathcal{X} = \\mathbb{R_+}$). <br>Is this true when we extend to all real numbers?*\n",
    "\n",
    "    NO\n",
    " - Choose $x = -1$ and $a = 1$: \n",
    " \n",
    "  $s(k_3, x, a) = a^2 \\min(-1, -1) = -1 < 0$\n",
    "  \n",
    "*Remark: With this same proof, we have a necessary (not sufficient) condition for $k$ to be p.d.: $k(x,x)$ must be $\\geq 0$ for all $x$*\n",
    "\n",
    "#### (d) $\\mathcal{X} = \\mathbb{R_+}$, $\\quad k_4(x, y) = \\max(x, y)$\n",
    "\n",
    "    NO\n",
    " - Choose $x_1 < x_2$ and $a_1 = a_2 = -1$: \n",
    " \n",
    "  $s(k_4, x, a) = x_1^2 - x_2^2 < 0$\n",
    "  \n",
    "#### (e)$\\mathcal{X} = \\mathbb{R_+}$, $\\quad k_5(x, y) = \\dfrac{\\min(x, y)}{\\max (x, y)}$\n",
    "*Hint: you can use the questions above, and the fact that the product of p.d. kernels is also p.d.*\n",
    "\n",
    "    YES\n",
    "- $k_5(x, y) = \\dfrac{\\min^2(x, y)}{\\max (x, y) \\min (x, y)}$\n",
    " \n",
    " Now since $\\max (x, y) \\min (x, y) = xy$, we notice that\n",
    " $k_5 = k_\\min^2 k_2$, which is p.d. as the product of p.d. kernels\n",
    " \n",
    "#### (f) $\\mathcal{X} =  \\left\\{\\text{Subsets of }\\Omega\\right\\}$ where $\\Omega$ is a fixed set, $\\quad k(A, B) = \\mathbb{P}(A\\cap B)$\n",
    "\n",
    "*Hint: Write the probability as an expectation*\n",
    "\n",
    "    YES\n",
    "- It is symmetric\n",
    "- We use the identity $\\mathbb{P}(A\\cap B) = \\mathbb{E}(\\mathbb{1}_A\\mathbb{1}_B)$\n",
    " \n",
    " $$\\begin{aligned}\n",
    " \\sum_{i, j} a_i a_j k(A_i, A_j) &= \\mathbb{E}\\left[\\sum_{i, j} a_i a_j \\mathbb{1}_{A_i}\\mathbb{1}_{A_j}\\right]\\\\\n",
    " &= \\mathbb{E}\\left[\\left(\\sum_{i} a_i \\mathbb{1}_{A_i}\\right)^2\\right]\\geq 0\n",
    " \\end{aligned} $$"
   ]
  },
  {
   "cell_type": "markdown",
   "metadata": {},
   "source": [
    "#### Question 4\n",
    "Why does the RKHS of  $k(x, y) = (x y)^2$ contains quadratic functions? Can it contain functions that are not quadratic? "
   ]
  },
  {
   "cell_type": "markdown",
   "metadata": {},
   "source": [
    "***\n",
    "## Section 2 - Practical Considerations"
   ]
  },
  {
   "cell_type": "markdown",
   "metadata": {},
   "source": [
    "#### Question 5\n",
    "1. Explain the kernel trick.\n",
    "2. What are its advantages?\n",
    "3. What conditions must the model verify to apply the kernel trick?"
   ]
  },
  {
   "cell_type": "markdown",
   "metadata": {},
   "source": [
    "#### Question 6\n",
    "Consider kernel SVM with kernel function $K$. Suppose you have the solution $\\alpha$ to the dual problem.\n",
    "\n",
    "How do you compute the bias $b$? Use only the kernel matrix $K$ in your answer"
   ]
  },
  {
   "cell_type": "markdown",
   "metadata": {},
   "source": [
    "#### Question 7\n",
    "What is the effect of $\\sigma^2$ on the RKHS of the RBF kernel?  Does it have a regularization effect? "
   ]
  },
  {
   "cell_type": "markdown",
   "metadata": {},
   "source": [
    "#### Question 8\n",
    "We have seen that a trick to implement the spectrum kernel consists of representing all possible subsequences of size $k$ by an integer and using a sparse vector structure. What are the limitations of this approach? Can we do it for all values of $k$? "
   ]
  }
 ],
 "metadata": {
  "kernelspec": {
   "display_name": "Python 2",
   "language": "python",
   "name": "python2"
  },
  "language_info": {
   "codemirror_mode": {
    "name": "ipython",
    "version": 2
   },
   "file_extension": ".py",
   "mimetype": "text/x-python",
   "name": "python",
   "nbconvert_exporter": "python",
   "pygments_lexer": "ipython2",
   "version": "2.7.3"
  }
 },
 "nbformat": 4,
 "nbformat_minor": 2
}
