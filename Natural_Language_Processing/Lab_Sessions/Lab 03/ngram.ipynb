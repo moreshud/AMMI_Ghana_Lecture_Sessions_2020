{
 "cells": [
  {
   "cell_type": "code",
   "execution_count": 1,
   "metadata": {},
   "outputs": [],
   "source": [
    "import io, sys, math, re\n",
    "from collections import defaultdict\n",
    "import numpy as np"
   ]
  },
  {
   "cell_type": "code",
   "execution_count": 2,
   "metadata": {},
   "outputs": [],
   "source": [
    "# dataloader\n",
    "\n",
    "def load_data(filename):\n",
    "    fin = io.open(filename, 'r', encoding='utf-8')\n",
    "    data = []\n",
    "    vocab = defaultdict(lambda:0)\n",
    "    for line in fin:\n",
    "        sentence = line.split()\n",
    "        data.append(sentence)\n",
    "        for word in sentence:\n",
    "            vocab[word] += 1\n",
    "    return data, vocab"
   ]
  },
  {
   "cell_type": "code",
   "execution_count": 3,
   "metadata": {},
   "outputs": [],
   "source": [
    "def remove_rare_words(data, vocab, mincount):\n",
    "    ## FILL CODE\n",
    "    # replace words in data that are not in the vocab \n",
    "    # or have a count that is below mincount\n",
    "    data_with_unk = []\n",
    "    \n",
    "    for sentence in data:\n",
    "        con = []\n",
    "        for word in sentence:\n",
    "            if word not in vocab or vocab[word] < mincount:\n",
    "                con.append(\"<unk>\")\n",
    "            else:\n",
    "                con.append(word)\n",
    "        data_with_unk.append(con)\n",
    "    return data_with_unk"
   ]
  },
  {
   "cell_type": "code",
   "execution_count": 4,
   "metadata": {},
   "outputs": [
    {
     "name": "stdout",
     "output_type": "stream",
     "text": [
      "load validation set\n"
     ]
    },
    {
     "data": {
      "text/plain": [
       "[['<s>', 'i', 'liked', 'your', 'idea', 'and', 'adopted', 'it', '.', '</s>'],\n",
       " ['<s>', 'you', 'are', 'wrong', ',', 'however', '.', '</s>'],\n",
       " ['<s>', 'how', 'soon', 'will', 'this', 'laundry', 'be', 'ready', '?', '</s>'],\n",
       " ['<s>',\n",
       "  'it',\n",
       "  'is',\n",
       "  'said',\n",
       "  'that',\n",
       "  'nobody',\n",
       "  'has',\n",
       "  'solved',\n",
       "  'the',\n",
       "  'problem',\n",
       "  'yet',\n",
       "  '.',\n",
       "  '</s>'],\n",
       " ['<s>', 'our', 'project', 'crashed', 'and', 'burned', '.', '</s>']]"
      ]
     },
     "execution_count": 4,
     "metadata": {},
     "output_type": "execute_result"
    }
   ],
   "source": [
    "# LOAD DATA\n",
    "\n",
    "train_data, vocab = load_data(\"train.txt\")\n",
    "## FILL CODE \n",
    "# If you have a Out of Vocabulary error (OOV) \n",
    "# call the function \"remove_rare_words\" to replace \n",
    "# rare words with <unk> in the dataset\n",
    "train_data = remove_rare_words(train_data, vocab, 10)\n",
    "\n",
    "print(\"load validation set\")\n",
    "valid_data, _ = load_data(\"valid.txt\")\n",
    "## FILL CODE \n",
    "# If you have a Out of Vocabulary error (OOV) \n",
    "# call the function \"remove_rare_words\" to replace \n",
    "# OOV with <unk> in the dataset\n",
    "valid_data = remove_rare_words(valid_data, vocab, 10)\n",
    "train_data[:5]"
   ]
  },
  {
   "cell_type": "code",
   "execution_count": 11,
   "metadata": {},
   "outputs": [],
   "source": [
    "def build_ngram(data, n):\n",
    "    total_number_words = 0\n",
    "    counts = defaultdict(lambda: defaultdict(lambda: 0.0))\n",
    "\n",
    "    for sentence in data:        \n",
    "        for i in range(len(sentence)):\n",
    "            temp = sentence[i:n+i]\n",
    "            for j in range(len(temp)):\n",
    "                counts[tuple(temp[:j])][temp[j]] += 1\n",
    "        \n",
    "\n",
    "    prob  = defaultdict(lambda: defaultdict(lambda: 0.0))\n",
    "    ## FILL CODE\n",
    "    # Build the probabilities from the counts\n",
    "    # Be careful with how you normalize!\n",
    "    for i in counts:\n",
    "        cum_sum = sum(counts[i].values())\n",
    "        for j in counts[i]:\n",
    "            prob[i][j] = counts[i][j]/cum_sum\n",
    "\n",
    "    return prob"
   ]
  },
  {
   "cell_type": "code",
   "execution_count": 28,
   "metadata": {},
   "outputs": [
    {
     "name": "stdout",
     "output_type": "stream",
     "text": [
      "build ngram model with n =  4\n"
     ]
    }
   ],
   "source": [
    "# RUN TO BUILD NGRAM MODEL\n",
    "\n",
    "n = 4\n",
    "print(\"build ngram model with n = \", n)\n",
    "model = build_ngram(train_data, n)"
   ]
  },
  {
   "cell_type": "code",
   "execution_count": 29,
   "metadata": {},
   "outputs": [],
   "source": [
    "def get_prob(model, context, w):\n",
    "    ## FILL CODE\n",
    "    # code a recursive function over \n",
    "    # smaller and smaller context\n",
    "    # to compute the backoff model\n",
    "    prob = model[tuple(context)][w]\n",
    "    \n",
    "    if prob == 0:\n",
    "        prob = 0.4 * get_prob(model, context[1:], w)\n",
    "        \n",
    "    return prob\n",
    "    \n",
    "\n",
    "def perplexity(model, data, n):\n",
    "    ## FILL CODE\n",
    "    # follow the formula in the slides\n",
    "    # call the function get_prob to get P(w2 | w1)\n",
    "    T = 0\n",
    "    log_sum = 0\n",
    "    \n",
    "    for sentence in data:\n",
    "        context = sentence[:n-1]\n",
    "        for word in sentence[n-1:]:\n",
    "            log_sum += np.log(get_prob(model, context, word))\n",
    "            \n",
    "            if context:\n",
    "                context.pop(0)\n",
    "                context.append(word)\n",
    "        T += len(sentence)            \n",
    "    return -(log_sum/T)"
   ]
  },
  {
   "cell_type": "code",
   "execution_count": 30,
   "metadata": {},
   "outputs": [
    {
     "name": "stdout",
     "output_type": "stream",
     "text": [
      "The perplexity is 2.7550588326584986\n"
     ]
    }
   ],
   "source": [
    "# COMPUTE PERPLEXITY ON VALIDATION SET\n",
    "\n",
    "print(\"The perplexity is\", perplexity(model, valid_data, n))"
   ]
  },
  {
   "cell_type": "code",
   "execution_count": 53,
   "metadata": {},
   "outputs": [],
   "source": [
    "def get_proba_distrib(model, context):\n",
    "    ## FILL CODE\n",
    "    # code a recursive function over context\n",
    "    # to find the longest available ngram\n",
    "    proba_distrib = model[tuple(context)]\n",
    "    \n",
    "    if len(proba_distrib) == 0:\n",
    "        proba_distrib = get_proba_distrib(model, context[1:])\n",
    "        \n",
    "    return proba_distrib\n",
    "\n",
    "def generate(model):\n",
    "    sentence = [\"<s>\"]\n",
    "    ## FILL CODE\n",
    "    # generate a sentence. A sentence starts with a <s> and ends with a </s>\n",
    "    # Possiblly a use function is:\n",
    "    #   np.random.choice(x, 1, p = y)\n",
    "    # where x is a list of things to sample from\n",
    "    # and y is a list of probability (of the same length as x)\n",
    "    \n",
    "    while True:\n",
    "        word_dict = get_proba_distrib(model, sentence)\n",
    "        p = np.random.choice(list(word_dict.keys()), 1, p=list(word_dict.values()))[0]\n",
    "        sentence.append(str(p))\n",
    "        \n",
    "        if p == \"</s>\": break\n",
    "    return sentence"
   ]
  },
  {
   "cell_type": "code",
   "execution_count": 54,
   "metadata": {},
   "outputs": [
    {
     "name": "stdout",
     "output_type": "stream",
     "text": [
      "Generated sentence:  ['<s>', 'he', 'always', '<unk>', 'good', 'health', '.', '</s>']\n"
     ]
    }
   ],
   "source": [
    "# GENERATE A SENTENCE FROM THE MODEL\n",
    "\n",
    "print(\"Generated sentence: \",generate(model))"
   ]
  },
  {
   "cell_type": "code",
   "execution_count": null,
   "metadata": {},
   "outputs": [],
   "source": []
  }
 ],
 "metadata": {
  "kernelspec": {
   "display_name": "Python 3",
   "language": "python",
   "name": "python3"
  },
  "language_info": {
   "codemirror_mode": {
    "name": "ipython",
    "version": 3
   },
   "file_extension": ".py",
   "mimetype": "text/x-python",
   "name": "python",
   "nbconvert_exporter": "python",
   "pygments_lexer": "ipython3",
   "version": "3.7.3"
  }
 },
 "nbformat": 4,
 "nbformat_minor": 2
}
