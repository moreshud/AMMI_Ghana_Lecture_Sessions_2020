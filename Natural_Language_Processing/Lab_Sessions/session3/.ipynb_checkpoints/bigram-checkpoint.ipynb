{
 "cells": [
  {
   "cell_type": "code",
   "execution_count": 1,
   "metadata": {},
   "outputs": [],
   "source": [
    "import io, sys, math, re\n",
    "from collections import defaultdict\n",
    "import numpy as np"
   ]
  },
  {
   "cell_type": "code",
   "execution_count": 2,
   "metadata": {},
   "outputs": [],
   "source": [
    "# dataloader\n",
    "\n",
    "def load_data(filename):\n",
    "    fin = io.open(filename, 'r', encoding='utf-8')\n",
    "    data = []\n",
    "    vocab = defaultdict(lambda:0)\n",
    "    for line in fin:\n",
    "        sentence = line.split()\n",
    "        data.append(sentence)\n",
    "        for word in sentence:\n",
    "            vocab[word] += 1\n",
    "    return data, vocab"
   ]
  },
  {
   "cell_type": "code",
   "execution_count": 3,
   "metadata": {},
   "outputs": [],
   "source": [
    "def remove_rare_words(data, vocab, mincount):\n",
    "    ## FILL CODE\n",
    "    # replace words in data that are not in the vocab \n",
    "    # or have a count that is below mincount\n",
    "    data_with_unk = []\n",
    "    \n",
    "    for sentence in data:\n",
    "        con = []\n",
    "        for word in sentence:\n",
    "            if word not in vocab or vocab[word] < mincount:\n",
    "                con.append(\"<unk>\")\n",
    "            else:\n",
    "                con.append(word)\n",
    "        data_with_unk.append(con)\n",
    "    return data_with_unk"
   ]
  },
  {
   "cell_type": "code",
   "execution_count": 4,
   "metadata": {},
   "outputs": [],
   "source": [
    "# remove_rare_words(data[:5], vocab, 100)"
   ]
  },
  {
   "cell_type": "code",
   "execution_count": 15,
   "metadata": {},
   "outputs": [
    {
     "name": "stdout",
     "output_type": "stream",
     "text": [
      "load validation set\n"
     ]
    },
    {
     "data": {
      "text/plain": [
       "[['<s>', 'i', 'liked', 'your', 'idea', 'and', 'adopted', 'it', '.', '</s>'],\n",
       " ['<s>', 'you', 'are', 'wrong', ',', 'however', '.', '</s>'],\n",
       " ['<s>', 'how', 'soon', 'will', 'this', 'laundry', 'be', 'ready', '?', '</s>'],\n",
       " ['<s>',\n",
       "  'it',\n",
       "  'is',\n",
       "  'said',\n",
       "  'that',\n",
       "  'nobody',\n",
       "  'has',\n",
       "  'solved',\n",
       "  'the',\n",
       "  'problem',\n",
       "  'yet',\n",
       "  '.',\n",
       "  '</s>'],\n",
       " ['<s>', 'our', 'project', 'crashed', 'and', 'burned', '.', '</s>']]"
      ]
     },
     "execution_count": 15,
     "metadata": {},
     "output_type": "execute_result"
    }
   ],
   "source": [
    "# LOAD DATA\n",
    "\n",
    "train_data, vocab = load_data(\"train2.txt\")\n",
    "## FILL CODE \n",
    "# If you have a Out of Vocabulary error (OOV) \n",
    "# call the function \"remove_rare_words\" to replace \n",
    "# rare words with <unk> in the dataset\n",
    "train_data = remove_rare_words(train_data, vocab, 10)\n",
    "\n",
    "print(\"load validation set\")\n",
    "valid_data, _ = load_data(\"valid2.txt\")\n",
    "## FILL CODE \n",
    "# If you have a Out of Vocabulary error (OOV) \n",
    "# call the function \"remove_rare_words\" to replace \n",
    "# OOV with <unk> in the dataset\n",
    "valid_data = remove_rare_words(valid_data, vocab, 10)\n",
    "train_data[:5]"
   ]
  },
  {
   "cell_type": "code",
   "execution_count": 16,
   "metadata": {},
   "outputs": [],
   "source": [
    "# Function to build a bigram model\n",
    "\n",
    "def build_bigram(data):\n",
    "    unigram_counts = defaultdict(lambda:0)\n",
    "    bigram_counts  = defaultdict(lambda: defaultdict(lambda: 0.0))\n",
    "    total_number_words = 0\n",
    "    \n",
    "#     for i in range(len(data)):\n",
    "#         print(data[i])\n",
    "#         print(\"*****************\")\n",
    "#         unigram_counts[data[i][0]] += 1\n",
    "#         for j in range(1,len(data[i])):\n",
    "#             unigram_counts[data[i][j]] += 1\n",
    "#             total_number_words += 1.0\n",
    "            \n",
    "#             bigram_counts[j-1][]\n",
    "#         print(\"*****************\")\n",
    "    \n",
    "    for sentence in data:\n",
    "        prev_word = sentence[0]\n",
    "        unigram_counts[prev_word] += 1\n",
    "        \n",
    "        for word in sentence[1:]:\n",
    "            unigram_counts[word] += 1\n",
    "            bigram_counts[prev_word][word] += 1\n",
    "            prev_word = word\n",
    "            \n",
    "        total_number_words += len(sentence)\n",
    "    ## FILL CODE\n",
    "    # Store the unigram and bigram counts as well as the total \n",
    "    # number of words in the dataset\n",
    "\n",
    "    unigram_prob = defaultdict(lambda:0)\n",
    "    bigram_prob = defaultdict(lambda: defaultdict(lambda: 0.0))\n",
    "    \n",
    "    for i in unigram_counts:\n",
    "        unigram_prob[i] = unigram_counts[i]/total_number_words\n",
    "        \n",
    "    ## FILL CODE\n",
    "    # Build unigram and bigram probabilities from counts\n",
    "    for i in bigram_counts:\n",
    "        cum_sum = sum(bigram_counts[i].values())\n",
    "        for j in bigram_counts[i]:\n",
    "            bigram_prob[i][j] = bigram_counts[i][j]/cum_sum\n",
    "    \n",
    "\n",
    "    return {'bigram': bigram_prob, 'unigram': unigram_prob}"
   ]
  },
  {
   "cell_type": "code",
   "execution_count": 17,
   "metadata": {},
   "outputs": [
    {
     "name": "stdout",
     "output_type": "stream",
     "text": [
      "build bigram model\n"
     ]
    }
   ],
   "source": [
    "# RUN TO BUILD BIGRAM MODEL\n",
    "\n",
    "print(\"build bigram model\")\n",
    "model = build_bigram(train_data)"
   ]
  },
  {
   "cell_type": "code",
   "execution_count": 18,
   "metadata": {},
   "outputs": [],
   "source": [
    "def get_prob(model, w1, w2):\n",
    "    assert model[\"unigram\"][w2] != 0, \"Out of Vocabulary word!\"\n",
    "    ## FILL CODE\n",
    "    # Should return the probability of the bigram (w1w2) if it exists\n",
    "    # Else it return the probility of unigram (w2) multiply by 0.4\n",
    "    \n",
    "    prob = model[\"bigram\"][w1][w2]\n",
    "    \n",
    "    if prob == 0:\n",
    "        prob = model[\"unigram\"][w2]*0.4\n",
    "    return prob\n",
    "    \n",
    "    \n",
    "def perplexity(model, data):\n",
    "    ## FILL CODE\n",
    "    # follow the formula in the slides\n",
    "    # call the function get_prob to get P(w2 | w1)\n",
    "    T = 0\n",
    "    log_sum = 0\n",
    "    \n",
    "    for sentence in data:\n",
    "        prev_word = sentence[0]\n",
    "        for word in sentence[1:]:\n",
    "            log_sum += np.log(get_prob(model, prev_word, word))\n",
    "            prev_word = word\n",
    "        T += len(sentence)            \n",
    "    return -(log_sum/T)"
   ]
  },
  {
   "cell_type": "code",
   "execution_count": 19,
   "metadata": {},
   "outputs": [
    {
     "name": "stdout",
     "output_type": "stream",
     "text": [
      "The perplexity is 3.5774067797000098\n"
     ]
    }
   ],
   "source": [
    "# COMPUTE PERPLEXITY ON VALIDATION SET\n",
    "\n",
    "print(\"The perplexity is\", perplexity(model, valid_data))"
   ]
  },
  {
   "cell_type": "code",
   "execution_count": 20,
   "metadata": {},
   "outputs": [],
   "source": [
    "def generate(model):\n",
    "    sentence = [\"<s>\"]\n",
    "    ## FILL CODE\n",
    "    # generate a sentence. A sentence starts with a <s> and ends with a </s>\n",
    "    # Possiblly a use function is:\n",
    "    #   np.random.choice(x, 1, p = y)\n",
    "    # where x is a list of things to sample from\n",
    "    # and y is a list of probability (of the same length as x)\n",
    "    p = sentence[0]\n",
    "    bigram = model[\"bigram\"]\n",
    "    \n",
    "    while True:\n",
    "        p = np.random.choice(list(bigram[p].keys()), 1, p=list(bigram[p].values()))[0]\n",
    "        sentence.append(p)\n",
    "        \n",
    "        if p == \"</s>\": break\n",
    "    return sentence"
   ]
  },
  {
   "cell_type": "code",
   "execution_count": 21,
   "metadata": {},
   "outputs": [
    {
     "name": "stdout",
     "output_type": "stream",
     "text": [
      "Generated sentence:  ['<s>', 'he', 'gives', 'us', 'has', 'been', 'good', 'order', 'in', 'a', 'new', 'soldiers', 'advanced', 'into', 'what', 'does', 'it', 'will', 'travel', 'by', 'the', 'people', 'attended', 'the', 'sun', '<unk>', '.', '</s>']\n"
     ]
    }
   ],
   "source": [
    "# GENERATE A SENTENCE FROM THE MODEL\n",
    "\n",
    "print(\"Generated sentence: \",generate(model))"
   ]
  },
  {
   "cell_type": "code",
   "execution_count": null,
   "metadata": {},
   "outputs": [],
   "source": []
  }
 ],
 "metadata": {
  "kernelspec": {
   "display_name": "Python 3",
   "language": "python",
   "name": "python3"
  },
  "language_info": {
   "codemirror_mode": {
    "name": "ipython",
    "version": 3
   },
   "file_extension": ".py",
   "mimetype": "text/x-python",
   "name": "python",
   "nbconvert_exporter": "python",
   "pygments_lexer": "ipython3",
   "version": "3.7.3"
  }
 },
 "nbformat": 4,
 "nbformat_minor": 2
}
