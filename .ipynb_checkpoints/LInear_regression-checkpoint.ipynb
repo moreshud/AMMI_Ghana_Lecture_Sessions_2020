{
 "cells": [
  {
   "cell_type": "code",
   "execution_count": 1,
   "metadata": {},
   "outputs": [],
   "source": [
    "import matplotlib.pyplot as plt\n",
    "import numpy as np\n",
    "import torch\n",
    "from torch import nn\n",
    "from torch.autograd import Variable\n",
    "\n",
    "%matplotlib inline"
   ]
  },
  {
   "cell_type": "code",
   "execution_count": 2,
   "metadata": {},
   "outputs": [],
   "source": [
    "\n",
    "x_train = np.array([[3.3], [4.4], [5.5], [6.71], [6.93], [4.168],\n",
    "                    [9.779], [6.182], [7.59], [2.167], [7.042],\n",
    "                    [10.791], [5.313], [7.997], [3.1]], dtype=np.float32)\n",
    "\n",
    "y_train = np.array([[1.7], [2.76], [2.09], [3.19], [1.694], [1.573],\n",
    "                    [3.366], [2.596], [2.53], [1.221], [2.827],\n",
    "                    [3.465], [1.65], [2.904], [1.3]], dtype=np.float32)\n"
   ]
  },
  {
   "cell_type": "code",
   "execution_count": 3,
   "metadata": {},
   "outputs": [],
   "source": [
    "# Convert our data into pytorch tensor\n",
    "\n",
    "x_train = torch.from_numpy(x_train)\n",
    "\n",
    "y_train = torch.from_numpy(y_train)\n"
   ]
  },
  {
   "cell_type": "code",
   "execution_count": 4,
   "metadata": {},
   "outputs": [],
   "source": [
    "# Linear Regression Model\n",
    "class linearRegression(nn.Module):\n",
    "    def __init__(self):\n",
    "        super(linearRegression, self).__init__()\n",
    "        self.linear = nn.Linear(1, 1)  # input and output is 1 dimension\n",
    "\n",
    "    def forward(self, x):\n",
    "        out = self.linear(x)\n",
    "        return out"
   ]
  },
  {
   "cell_type": "code",
   "execution_count": 5,
   "metadata": {},
   "outputs": [],
   "source": [
    "model = linearRegression()"
   ]
  },
  {
   "cell_type": "code",
   "execution_count": 6,
   "metadata": {},
   "outputs": [],
   "source": [
    "criterion = nn.MSELoss()\n",
    "optimizer = torch.optim.SGD(model.parameters(), lr=1e-4)\n"
   ]
  },
  {
   "cell_type": "code",
   "execution_count": 7,
   "metadata": {},
   "outputs": [
    {
     "name": "stdout",
     "output_type": "stream",
     "text": [
      "Epoch[20/1000], loss: 5.447823\n",
      "Epoch[40/1000], loss: 3.964789\n",
      "Epoch[60/1000], loss: 2.916595\n",
      "Epoch[80/1000], loss: 2.175724\n",
      "Epoch[100/1000], loss: 1.652050\n",
      "Epoch[120/1000], loss: 1.281880\n",
      "Epoch[140/1000], loss: 1.020198\n",
      "Epoch[160/1000], loss: 0.835189\n",
      "Epoch[180/1000], loss: 0.704368\n",
      "Epoch[200/1000], loss: 0.611844\n",
      "Epoch[220/1000], loss: 0.546388\n",
      "Epoch[240/1000], loss: 0.500061\n",
      "Epoch[260/1000], loss: 0.467254\n",
      "Epoch[280/1000], loss: 0.444001\n",
      "Epoch[300/1000], loss: 0.427502\n",
      "Epoch[320/1000], loss: 0.415775\n",
      "Epoch[340/1000], loss: 0.407421\n",
      "Epoch[360/1000], loss: 0.401451\n",
      "Epoch[380/1000], loss: 0.397166\n",
      "Epoch[400/1000], loss: 0.394073\n",
      "Epoch[420/1000], loss: 0.391821\n",
      "Epoch[440/1000], loss: 0.390164\n",
      "Epoch[460/1000], loss: 0.388927\n",
      "Epoch[480/1000], loss: 0.387988\n",
      "Epoch[500/1000], loss: 0.387259\n",
      "Epoch[520/1000], loss: 0.386678\n",
      "Epoch[540/1000], loss: 0.386203\n",
      "Epoch[560/1000], loss: 0.385802\n",
      "Epoch[580/1000], loss: 0.385453\n",
      "Epoch[600/1000], loss: 0.385142\n",
      "Epoch[620/1000], loss: 0.384857\n",
      "Epoch[640/1000], loss: 0.384591\n",
      "Epoch[660/1000], loss: 0.384338\n",
      "Epoch[680/1000], loss: 0.384095\n",
      "Epoch[700/1000], loss: 0.383858\n",
      "Epoch[720/1000], loss: 0.383626\n",
      "Epoch[740/1000], loss: 0.383398\n",
      "Epoch[760/1000], loss: 0.383172\n",
      "Epoch[780/1000], loss: 0.382948\n",
      "Epoch[800/1000], loss: 0.382726\n",
      "Epoch[820/1000], loss: 0.382504\n",
      "Epoch[840/1000], loss: 0.382284\n",
      "Epoch[860/1000], loss: 0.382064\n",
      "Epoch[880/1000], loss: 0.381844\n",
      "Epoch[900/1000], loss: 0.381625\n",
      "Epoch[920/1000], loss: 0.381406\n",
      "Epoch[940/1000], loss: 0.381188\n",
      "Epoch[960/1000], loss: 0.380970\n",
      "Epoch[980/1000], loss: 0.380752\n",
      "Epoch[1000/1000], loss: 0.380534\n"
     ]
    }
   ],
   "source": [
    "num_epochs = 1000\n",
    "for epoch in range(num_epochs):\n",
    "    inputs = x_train\n",
    "    target = y_train\n",
    "\n",
    "    # forward\n",
    "    out = model(inputs)\n",
    "    loss = criterion(out, target)\n",
    "    # backward\n",
    "    optimizer.zero_grad()\n",
    "    loss.backward()\n",
    "    optimizer.step()\n",
    "\n",
    "    if (epoch+1) % 20 == 0:\n",
    "        print(f'Epoch[{epoch+1}/{num_epochs}], loss: {loss.item():.6f}')"
   ]
  },
  {
   "cell_type": "code",
   "execution_count": 12,
   "metadata": {},
   "outputs": [],
   "source": [
    "model.eval()\n",
    "with torch.no_grad():\n",
    "    predict = model(x_train)\n"
   ]
  },
  {
   "cell_type": "code",
   "execution_count": 13,
   "metadata": {},
   "outputs": [],
   "source": [
    "predict = predict.data.numpy()"
   ]
  },
  {
   "cell_type": "code",
   "execution_count": 14,
   "metadata": {},
   "outputs": [
    {
     "data": {
      "text/plain": [
       "array([[0.937375  ],\n",
       "       [1.4241657 ],\n",
       "       [1.9109561 ],\n",
       "       [2.446426  ],\n",
       "       [2.543784  ],\n",
       "       [1.3214972 ],\n",
       "       [3.8045716 ],\n",
       "       [2.2127664 ],\n",
       "       [2.8358583 ],\n",
       "       [0.43598068],\n",
       "       [2.593348  ],\n",
       "       [4.252419  ],\n",
       "       [1.8282018 ],\n",
       "       [3.015971  ],\n",
       "       [0.8488676 ]], dtype=float32)"
      ]
     },
     "execution_count": 14,
     "metadata": {},
     "output_type": "execute_result"
    }
   ],
   "source": [
    "predict"
   ]
  },
  {
   "cell_type": "code",
   "execution_count": 15,
   "metadata": {},
   "outputs": [
    {
     "data": {
      "image/png": "[encoded data removed]",
      "text/plain": [
       "<Figure size 720x360 with 1 Axes>"
      ]
     },
     "metadata": {
      "needs_background": "light"
     },
     "output_type": "display_data"
    }
   ],
   "source": [
    "\n",
    "fig = plt.figure(figsize=(10, 5))\n",
    "plt.plot(x_train.numpy(), y_train.numpy(), 'ro', label='Original data')\n",
    "plt.plot(x_train.numpy(), predict, label='Fitting Line')\n",
    "# 显示图例\n",
    "plt.legend() \n",
    "plt.show()\n",
    "\n",
    "# Save your model\n",
    "torch.save(model.state_dict(), './linear.pth')\n"
   ]
  },
  {
   "cell_type": "code",
   "execution_count": null,
   "metadata": {},
   "outputs": [],
   "source": []
  }
 ],
 "metadata": {
  "kernelspec": {
   "display_name": "Python 3",
   "language": "python",
   "name": "python3"
  },
  "language_info": {
   "codemirror_mode": {
    "name": "ipython",
    "version": 3
   },
   "file_extension": ".py",
   "mimetype": "text/x-python",
   "name": "python",
   "nbconvert_exporter": "python",
   "pygments_lexer": "ipython3",
   "version": "3.7.3"
  }
 },
 "nbformat": 4,
 "nbformat_minor": 4
}
