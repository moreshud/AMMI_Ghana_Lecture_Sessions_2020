{
  "nbformat": 4,
  "nbformat_minor": 0,
  "metadata": {
    "kernelspec": {
      "display_name": "Python 3",
      "language": "python",
      "name": "python3"
    },
    "language_info": {
      "codemirror_mode": {
        "name": "ipython",
        "version": 3
      },
      "file_extension": ".py",
      "mimetype": "text/x-python",
      "name": "python",
      "nbconvert_exporter": "python",
      "pygments_lexer": "ipython3",
      "version": "3.7.6"
    },
    "colab": {
      "name": "Practical_Session_Fitted_Q_Iteration.ipynb",
      "provenance": [],
      "collapsed_sections": []
    }
  },
  "cells": [
    {
      "cell_type": "markdown",
      "metadata": {
        "id": "22ON9a465Z6o",
        "colab_type": "text"
      },
      "source": [
        "### Google Colab setup"
      ]
    },
    {
      "cell_type": "code",
      "metadata": {
        "id": "R75PIXXj5Z6v",
        "colab_type": "code",
        "colab": {}
      },
      "source": [
        "!pip install gym > /dev/null 2>&1"
      ],
      "execution_count": 0,
      "outputs": []
    },
    {
      "cell_type": "code",
      "metadata": {
        "id": "JzZtLP2P5Z64",
        "colab_type": "code",
        "outputId": "fd98b405-da05-473f-c9ca-4413d4d17ea5",
        "colab": {
          "base_uri": "https://localhost:8080/",
          "height": 35
        }
      },
      "source": [
        "!git clone https://github.com/rlgammazero/mvarl_hands_on.git > /dev/null 2>&1\n",
        "!cd mvarl_hands_on && git pull"
      ],
      "execution_count": 0,
      "outputs": [
        {
          "output_type": "stream",
          "text": [
            "Already up to date.\n"
          ],
          "name": "stdout"
        }
      ]
    },
    {
      "cell_type": "code",
      "metadata": {
        "id": "56z4BX6w5Z7B",
        "colab_type": "code",
        "colab": {}
      },
      "source": [
        "import sys\n",
        "sys.path.insert(0, './mvarl_hands_on/fitted_q_iteration') "
      ],
      "execution_count": 0,
      "outputs": []
    },
    {
      "cell_type": "markdown",
      "metadata": {
        "id": "hU1aaZtO5Z7G",
        "colab_type": "text"
      },
      "source": [
        "# Fitted Q Iteration (FQI)\n",
        "\n",
        "We saw that, if $Q$ is the optimal value function, then it is the fixed point of the Bellman optimality operator\n",
        "\n",
        "$$\n",
        "Q(s, a) = T^*Q(s, a) = r(s, a) + \\gamma \\mathbb{E}_{s'\\sim p(\\cdot|s,a)}[\\max_{a'}Q(s', a')]\n",
        "$$\n",
        "and can be found by value iteration: if $Q_{k+1} = T^* Q_{k}$, then $Q_k \\to Q^*$.\n",
        "\n",
        "\n",
        "The goal of Fitted Q Iteration (FQI) is to search for an approximation of $Q$ in a function space $\\mathcal{F}$. It proceeds as value iteration but, instead of computing $T^* Q_{k}$ exactly, it looks for its best approximation in $\\mathcal{F}$\n",
        "\n",
        "$$\n",
        "Q_{k+1} = \\arg\\min_{f \\in \\mathcal{F}} \\mathbb{E}_{s, a \\sim \\mu}[ (f(s, a) - T^*Q_{k}(s,a))^2]\n",
        "$$\n",
        "where $\\mu$ is some probability distribution on the state-action space. In practice, we cannot compute expectations exactly, and we consider the following approximation based on sampling:\n",
        "\n",
        "$$\n",
        "Q_{k+1} = \\arg\\min_{f \\in \\mathcal{F}} \\sum_{i=1}^N [f(s_i, a_i) - (r_i + \\gamma\\max_{a'}Q_{k}(s'_i,a'))]^2\n",
        "$$\n",
        "for $s_i, a_i \\sim \\mu$ and $s'_i \\in p(\\cdot|s_i,a_i)$.\n",
        "\n",
        "The error between $Q_K$ and $Q^*$ can be bounded as a function of the number of iterations $K$, the number of samples used in each iteration $N$ and the properties of the function class $\\mathcal{F}$. \n",
        "\n",
        "\n",
        "# Linear FQI\n",
        "\n",
        "In this practical session, we consider Linear FQI, in which we have a feature function $\\phi: S \\times A \\to \\mathbb{R}^d$ and $\\mathcal{F} = \\{ f: f(s, a) = \\theta^T \\phi(s,a), \\theta \\in \\mathbb{R}^d\\}$.\n",
        "\n",
        "In this case, each $Q_k$ is represented by a vector $\\theta_k$ and the optimization problem to be solved in each iteration becomes\n",
        "\n",
        "$$\n",
        "\\theta_{k+1} = \\arg\\min_{\\theta \\in \\mathbb{R}^d} \\left( \\sum_{i=1}^N [\\theta^T \\phi(s_i, a_i) - (r_i + \\gamma\\max_{a'}\\theta_{k}^T\\phi(s'_i,a'))]^2 + \\lambda  \\theta^T \\theta \\right)\n",
        "$$\n",
        "\n",
        "where we included a regularization term.  Let $y_i^k = r_i + \\gamma\\max_{a'}\\theta_{k}^T\\phi(s'_i,a')$,  $y_k = (y_1^k, \\ldots, y_n^k)^T$, and $Z_{i, j} = \\phi_j(s_i, a_i)$. The solution to this optimization problem is\n",
        "\n",
        "$$\n",
        "\\theta_{k+1} = (Z^T Z + \\lambda I)^{-1} Z^T y_k\n",
        "$$\n"
      ]
    },
    {
      "cell_type": "markdown",
      "metadata": {
        "id": "8rf_TxAC5Z7I",
        "colab_type": "text"
      },
      "source": [
        "# Linear Quadratic Gaussian Regulator\n",
        "\n",
        "We consider an environment where the state space $[-10, 10]$, the action space is $[-8, 8]$, and such that the transitions and the rewards are given by\n",
        "\n",
        "$$\n",
        "s_{t+1} = A s_{t} + B a_{t} + n_t \\quad \\text{ and } \\quad r_t = -(Q s_{t}^2 + R a_t)\n",
        "$$\n",
        "\n",
        "respectively, where $n_t$ is a Gaussian noise. \n",
        "\n",
        "This is a 1d instantance of a Linear Quadratic Gaussian Regulator.\n",
        "\n",
        "We use the following feature function:\n",
        "\n",
        "$$\n",
        "\\phi(s, a) = (sa, s^2 + a^2, a)^T\n",
        "$$"
      ]
    },
    {
      "cell_type": "code",
      "metadata": {
        "id": "ihFuYrhA5Z7J",
        "colab_type": "code",
        "colab": {}
      },
      "source": [
        "import numpy as np \n",
        "import gym\n",
        "import matplotlib.pyplot as plt\n",
        "from mpl_toolkits.mplot3d import Axes3D\n",
        "from lqg1d import LQG1D\n",
        "from utils import plot_solution"
      ],
      "execution_count": 0,
      "outputs": []
    },
    {
      "cell_type": "markdown",
      "metadata": {
        "id": "ztYKfsjU5Z7P",
        "colab_type": "text"
      },
      "source": [
        "# Step 1: Define parameters and collect data using a random policy"
      ]
    },
    {
      "cell_type": "code",
      "metadata": {
        "id": "Q_RqXWKf5Z7Q",
        "colab_type": "code",
        "colab": {}
      },
      "source": [
        "# Initialize LQG envinroment\n",
        "env = LQG1D()\n",
        "\n",
        "# Discretized states and actions\n",
        "states = discrete_states = np.linspace(-10, 10, 40)   # used for plotting only\n",
        "actions = discrete_actions = np.linspace(-8, 8, 20)   # used to compute argmax over actions\n",
        "\n",
        "# Total number of transitions to collect\n",
        "N_transitions = 100\n",
        "\n",
        "# Lenght of an episode\n",
        "horizon = 10\n",
        "\n",
        "# discount factor\n",
        "gamma = 0.9"
      ],
      "execution_count": 0,
      "outputs": []
    },
    {
      "cell_type": "code",
      "metadata": {
        "id": "PTCi21eM5Z7V",
        "colab_type": "code",
        "colab": {}
      },
      "source": [
        "class RandomPolicy:\n",
        "    \"\"\"\n",
        "    Defines a random policy. \n",
        "    \"\"\"\n",
        "    def __init__(self, actions):\n",
        "        self.actions = actions \n",
        "\n",
        "    def sample(self, state): \n",
        "        idx = np.random.randint(0, len(self.actions))\n",
        "        return self.actions[idx]"
      ],
      "execution_count": 0,
      "outputs": []
    },
    {
      "cell_type": "code",
      "metadata": {
        "id": "Xrpdu_K25Z7Z",
        "colab_type": "code",
        "colab": {}
      },
      "source": [
        "def collect_data(policy, env, n_data, horizon = np.inf):\n",
        "    \"\"\"\n",
        "    \n",
        "    TO BE COMPLETED\n",
        "    \n",
        "    \n",
        "    Collects data (state, action, next_state, reward) for a given environment\n",
        "    following a given policy\n",
        "\n",
        "    policy:  behavior policy\n",
        "    env:     environment\n",
        "    n_data:  number of points (state, action, next_state, reward) to collect\n",
        "    horizon: maximum length of an episode\n",
        "\n",
        "    returns: (states, actions, next_states, rewards, done_flags), where\n",
        "             - states and next_states are arrays of shape (n_data, state_dim)\n",
        "             - actions is an array of shape (n_data, action_dim)\n",
        "             - rewards is an array of shape (n_data,)\n",
        "             - done_flags is an array of shape (n_data,)\n",
        "    \"\"\"\n",
        "    # Getting the dimension of the state and the action spaces\n",
        "    state_dim = 1\n",
        "    action_dim = 1\n",
        "    if isinstance(env.observation_space, gym.spaces.Box):\n",
        "        state_dim = env.observation_space.shape[0]\n",
        "    if isinstance(env.action_space, gym.spaces.Box):\n",
        "        action_dim = env.observation_space.shape[0]\n",
        "\n",
        "    # Initializing arrays\n",
        "    states = np.zeros((n_data, state_dim))\n",
        "    next_states = np.zeros((n_data, state_dim))\n",
        "    actions = np.zeros((n_data, action_dim))\n",
        "    rewards = np.zeros(n_data)\n",
        "    done_flags = np.zeros(n_data)\n",
        "\n",
        "    # Gather data\n",
        "    state = env.reset()\n",
        "    step_count = 0\n",
        "    for tt in range(n_data):\n",
        "        action = policy.sample(state)\n",
        "        next_state, reward, done, _ = env.step(action)\n",
        "\n",
        "        states[tt, :]      = state\n",
        "        actions[tt, :]     = action\n",
        "        rewards[tt]        = reward\n",
        "        next_states[tt, :] = next_state\n",
        "        done_flags[tt]     = done\n",
        "        state = next_state \n",
        "        step_count += 1  # time counter within the episode\n",
        "\n",
        "        if done or step_count == horizon:\n",
        "          step_count = 0\n",
        "          state = env.reset()\n",
        "\n",
        "    return states, actions, next_states, rewards, done_flags"
      ],
      "execution_count": 0,
      "outputs": []
    },
    {
      "cell_type": "code",
      "metadata": {
        "id": "S69Nr2Be5Z7d",
        "colab_type": "code",
        "outputId": "929ec366-4059-447c-984d-69daab09feb6",
        "colab": {
          "base_uri": "https://localhost:8080/",
          "height": 89
        }
      },
      "source": [
        "# collect data\n",
        "policy = RandomPolicy(actions)\n",
        "data = collect_data(policy, env, N_transitions, horizon)\n",
        "\n",
        "data_states, data_actions, next_states, rewards, done_flags = data\n",
        "\n",
        "print(actions)\n",
        "# done_flags[ii] = 1 if states[ii] is terminal, and 0 otherwise"
      ],
      "execution_count": 0,
      "outputs": [
        {
          "output_type": "stream",
          "text": [
            "[-8.         -7.15789474 -6.31578947 -5.47368421 -4.63157895 -3.78947368\n",
            " -2.94736842 -2.10526316 -1.26315789 -0.42105263  0.42105263  1.26315789\n",
            "  2.10526316  2.94736842  3.78947368  4.63157895  5.47368421  6.31578947\n",
            "  7.15789474  8.        ]\n"
          ],
          "name": "stdout"
        }
      ]
    },
    {
      "cell_type": "markdown",
      "metadata": {
        "id": "wRMoJXt75Z7j",
        "colab_type": "text"
      },
      "source": [
        "# Step 2: Define feature function"
      ]
    },
    {
      "cell_type": "code",
      "metadata": {
        "id": "FRIWysUG5Z7l",
        "colab_type": "code",
        "colab": {}
      },
      "source": [
        "class LQG_FeatureFunction:\n",
        "    \"\"\"\n",
        "    TO BE COMPLETED\n",
        "    \n",
        "    Feature function for LQG\n",
        "    \"\"\"\n",
        "    def __init__(self, env):\n",
        "        self.feature_dim = 3\n",
        "        self.state_dim = 1\n",
        "\n",
        "    def map(self, state, action):\n",
        "        feature = np.zeros(3)\n",
        "        feature[0] = state*action\n",
        "        feature[1] = state*state + action*action\n",
        "        feature[2] = action\n",
        "        return feature"
      ],
      "execution_count": 0,
      "outputs": []
    },
    {
      "cell_type": "markdown",
      "metadata": {
        "id": "N3b84pPG5Z7p",
        "colab_type": "text"
      },
      "source": [
        "# Step 3: Run Linear FQI and compare its solution to the true Q function"
      ]
    },
    {
      "cell_type": "code",
      "metadata": {
        "id": "uX7e1oOt5Z7q",
        "colab_type": "code",
        "outputId": "224a4e3d-c966-4b8c-cbcc-213d46e5ae98",
        "colab": {
          "base_uri": "https://localhost:8080/",
          "height": 266
        }
      },
      "source": [
        "# Feature map\n",
        "feature_map = LQG_FeatureFunction(env)\n",
        "\n",
        "# theta\n",
        "theta = np.zeros(feature_map.feature_dim)\n",
        "\n",
        "\n",
        "data = collect_data(policy, env, N_transitions, horizon)\n",
        "data_states, data_actions, next_states, rewards, done_flags = data\n",
        "\n",
        "Z = np.zeros((N_transitions, feature_map.feature_dim))\n",
        "y = np.zeros((N_transitions,))\n",
        "# FQI\n",
        "n_it = 10 \n",
        "for it in range(n_it):\n",
        "    # Compute matrix Z and targets y\n",
        "    for nn in range(N_transitions):        \n",
        "        Z[nn, :] = feature_map.map(data_states[nn, :], data_actions[nn, :])\n",
        "\n",
        "        # Compute max_a Q(next_states[nn, :], a)\n",
        "        max_value = -np.inf\n",
        "        for action in actions:\n",
        "          q_next_state_a = theta.dot(feature_map.map(next_states[nn, :], action))\n",
        "          if(q_next_state_a > max_value):\n",
        "            max_value = q_next_state_a\n",
        "        # max_value = max_a Q(next_states[nn, :], a)\n",
        "        # if done_flags[nn] == 1:\n",
        "          # max_value = ...\n",
        "        y[nn] = rewards[nn] + gamma*max_value\n",
        "\n",
        "    # Solve least squares problem to update theta (Ax = b)\n",
        "    b = Z.T.dot(y)\n",
        "    A = Z.T.dot(Z) + 0.01*np.eye(feature_map.feature_dim)\n",
        "    theta = np.linalg.solve(A, b)\n",
        "    \n",
        "# Plot solution\n",
        "plot_solution(env, feature_map, states, actions, theta, gamma)"
      ],
      "execution_count": 0,
      "outputs": [
        {
          "output_type": "stream",
          "text": [
            "Optimal K: [[-0.58840335]] Covariance S: 0.001\n"
          ],
          "name": "stdout"
        },
        {
          "output_type": "display_data",
          "data": {
            "image/png": "[encoded data removed]",
            "text/plain": [
              "<Figure size 432x288 with 1 Axes>"
            ]
          },
          "metadata": {
            "tags": []
          }
        }
      ]
    },
    {
      "cell_type": "markdown",
      "metadata": {
        "id": "pzgrwuJM5Z7v",
        "colab_type": "text"
      },
      "source": [
        "# Step 4: Execute the policy\n",
        "\n",
        "Write a loop to run the learned policy for $m$ episodes and compute the total sum of rewards obtained."
      ]
    },
    {
      "cell_type": "code",
      "metadata": {
        "id": "nFDM5nSp5Z7x",
        "colab_type": "code",
        "outputId": "8d2d8a9f-8636-4391-dc84-73aa09f57fb7",
        "colab": {
          "base_uri": "https://localhost:8080/",
          "height": 71
        }
      },
      "source": [
        "print(theta)\n",
        "\n",
        "# Q(s, a) = theta.dot( feature_map.map(s, a))\n",
        "\n",
        "## Evaluate greedy policy \n",
        "n_sim = 100 # number of simulations\n",
        "rewards = np.zeros(n_sim)\n",
        "for sim in range(n_sim):\n",
        "    done = False\n",
        "    state = env.reset()\n",
        "    # run one episode\n",
        "    for ii in range(horizon):\n",
        "      q_function = [theta.dot(feature_map.map(state, a)) for a in actions]\n",
        "      action = actions[np.argmax(q_function)]\n",
        "      next_state, reward, done, _ = env.step(action)\n",
        "      state = next_state \n",
        "      rewards[sim] += reward\n",
        "\n",
        "print(\"mean reward of greedy policy wrt to Q(s, a) = \", rewards.mean())\n",
        "\n",
        "\n",
        "## Evaluate random policy \n",
        "rewards_rand = np.zeros(n_sim)\n",
        "for sim in range(n_sim):\n",
        "    done = False\n",
        "    state = env.reset()\n",
        "    # run one episode\n",
        "    for ii in range(horizon):\n",
        "      action = env.action_space.sample()\n",
        "      next_state, reward, done, _ = env.step(action)\n",
        "      state = next_state \n",
        "      rewards_rand[sim] += reward\n",
        "\n",
        "print(\"mean reward of random policy = \", rewards_rand.mean())\n"
      ],
      "execution_count": 0,
      "outputs": [
        {
          "output_type": "stream",
          "text": [
            "[-1.07774747 -1.24070191  0.90900721]\n",
            "mean reward of greedy policy wrt to Q(s, a) =  -27.853158926793288\n",
            "mean reward of random policy =  -649.888881429276\n"
          ],
          "name": "stdout"
        }
      ]
    }
  ]
}