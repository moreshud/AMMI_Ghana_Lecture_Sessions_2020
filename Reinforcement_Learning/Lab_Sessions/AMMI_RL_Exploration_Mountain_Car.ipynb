{
  "nbformat": 4,
  "nbformat_minor": 0,
  "metadata": {
    "kernelspec": {
      "display_name": "Python 3",
      "language": "python",
      "name": "python3"
    },
    "language_info": {
      "codemirror_mode": {
        "name": "ipython",
        "version": 3
      },
      "file_extension": ".py",
      "mimetype": "text/x-python",
      "name": "python",
      "nbconvert_exporter": "python",
      "pygments_lexer": "ipython3",
      "version": "3.8.1"
    },
    "colab": {
      "name": "Copy of AMMI RL - Exploration - Mountain Car.ipynb",
      "provenance": [],
      "collapsed_sections": []
    }
  },
  "cells": [
    {
      "cell_type": "code",
      "metadata": {
        "id": "780D9u4ZZxWo",
        "colab_type": "code",
        "colab": {}
      },
      "source": [
        "!pip install gym > /dev/null 2>&1"
      ],
      "execution_count": 0,
      "outputs": []
    },
    {
      "cell_type": "code",
      "metadata": {
        "id": "x20JG4VuaEND",
        "colab_type": "code",
        "colab": {}
      },
      "source": [
        "!pip install gym pyvirtualdisplay > /dev/null 2>&1\n",
        "!apt-get install -y xvfb python-opengl ffmpeg > /dev/null 2>&1"
      ],
      "execution_count": 0,
      "outputs": []
    },
    {
      "cell_type": "code",
      "metadata": {
        "id": "E46IaY_5aEtf",
        "colab_type": "code",
        "outputId": "1b240324-cc63-45c0-e67d-df8b866001ae",
        "colab": {
          "base_uri": "https://localhost:8080/",
          "height": 34
        }
      },
      "source": [
        "!apt-get update > /dev/null 2>&1\n",
        "!apt-get install cmake > /dev/null 2>&1\n",
        "!pip install --upgrade setuptools 2>&1\n",
        "!pip install ez_setup > /dev/null 2>&1"
      ],
      "execution_count": 0,
      "outputs": [
        {
          "output_type": "stream",
          "text": [
            "Requirement already up-to-date: setuptools in /usr/local/lib/python3.6/dist-packages (45.2.0)\n"
          ],
          "name": "stdout"
        }
      ]
    },
    {
      "cell_type": "code",
      "metadata": {
        "id": "_UWM-gGi76pF",
        "colab_type": "code",
        "colab": {}
      },
      "source": [
        "!git clone https://github.com/rlgammazero/mvarl_hands_on.git > /dev/null 2>&1"
      ],
      "execution_count": 0,
      "outputs": []
    },
    {
      "cell_type": "code",
      "metadata": {
        "id": "J5EbzJ1A78Bk",
        "colab_type": "code",
        "colab": {}
      },
      "source": [
        "import sys\n",
        "sys.path.insert(0, './mvarl_hands_on/utils')"
      ],
      "execution_count": 0,
      "outputs": []
    },
    {
      "cell_type": "code",
      "metadata": {
        "id": "KDPYhYvR7yKZ",
        "colab_type": "code",
        "colab": {}
      },
      "source": [
        "import numpy as np\n",
        "import cvxpy as cp\n",
        "import matplotlib.pyplot as plt\n",
        "%matplotlib inline\n",
        "\n",
        "import gym\n",
        "from gym import logger as gymlogger\n",
        "from gym.wrappers import Monitor\n",
        "gymlogger.set_level(40) #error only\n",
        "\n",
        "import seaborn as sns\n",
        "from pyvirtualdisplay import Display\n",
        "from IPython import display as ipythondisplay\n",
        "from IPython.display import clear_output\n",
        "from pathlib import Path\n",
        "\n",
        "import random, os.path, math, glob, csv, base64, itertools, sys\n",
        "from pprint import pprint\n",
        "\n",
        "import matplotlib\n",
        "import matplotlib.pyplot as plt\n",
        "%matplotlib inline\n",
        "import io\n",
        "from IPython.display import HTML\n",
        "\n",
        "from copy import deepcopy"
      ],
      "execution_count": 0,
      "outputs": []
    },
    {
      "cell_type": "markdown",
      "metadata": {
        "id": "S5twn7Qv7yKf",
        "colab_type": "text"
      },
      "source": [
        "# Discretization of the state space"
      ]
    },
    {
      "cell_type": "code",
      "metadata": {
        "id": "f3WTC2o2coW_",
        "colab_type": "code",
        "colab": {}
      },
      "source": [
        "from discretization import Discretizer\n",
        "\n",
        "class DiscretizedMountainCar(gym.Wrapper):\n",
        "    def __init__(self, n_bins):\n",
        "        env_id = 'MountainCar-v0' \n",
        "        env = gym.make(env_id)\n",
        "        self.env = env\n",
        "        super().__init__(env)\n",
        "        self.min_reward = -1.0\n",
        "        self.max_reward = 0.0\n",
        "\n",
        "        LM = env.observation_space.low\n",
        "        HM = env.observation_space.high\n",
        "        D = len(HM)\n",
        "\n",
        "        bins = []\n",
        "        for i in range(D):\n",
        "            V = np.linspace(LM[i], HM[i], n_bins)\n",
        "            bins.append(V[1:-1])\n",
        "        self.grid = Discretizer(bins=bins)\n",
        "\n",
        "        # Number of states\n",
        "        self.S = self.grid.n_bins()\n",
        "        # Number of actions\n",
        "        self.A = self.env.action_space.n\n",
        "\n",
        "    def step(self, action):\n",
        "        next_state, reward, done, info = self.env.step(action)\n",
        "        reward = (reward - self.min_reward) / (self.max_reward - self.min_reward)\n",
        "        if done:\n",
        "            next_state = self.env.reset()\n",
        "            reward = 1.0\n",
        "        done = False \n",
        "        next_state = self.grid.dpos(next_state)\n",
        "        return next_state, reward, done, info\n",
        "\n",
        "    def reset(self):\n",
        "        state = self.env.reset()\n",
        "        state = self.grid.dpos(state)\n",
        "        return state\n",
        "\n",
        "# Environment\n",
        "n_bins = 10\n",
        "env = DiscretizedMountainCar(n_bins)\n",
        "\n",
        "# Horizon\n",
        "H = 180"
      ],
      "execution_count": 0,
      "outputs": []
    },
    {
      "cell_type": "code",
      "metadata": {
        "id": "7l8433mz7yKh",
        "colab_type": "code",
        "colab": {}
      },
      "source": [
        ""
      ],
      "execution_count": 0,
      "outputs": []
    },
    {
      "cell_type": "markdown",
      "metadata": {
        "id": "hiXHdYle7yKm",
        "colab_type": "text"
      },
      "source": [
        "# Backward induction (aka Value Iteration)"
      ]
    },
    {
      "cell_type": "code",
      "metadata": {
        "id": "Q_KZXn8A7yKo",
        "colab_type": "code",
        "colab": {}
      },
      "source": [
        "def backward_induction(P, R, H):\n",
        "    \"\"\"\n",
        "        Parameters:\n",
        "            P: transition function (S,A,S)-dim matrix\n",
        "            R: reward function (S,A)-dim matrix\n",
        "            H: horizon\n",
        "\n",
        "        Returns:\n",
        "            The optimal V-function: array of shape (horizon, S)\n",
        "            The optimal policy\n",
        "        \n",
        "        V[h, s]\n",
        "    \"\"\"\n",
        "    S, A = P.shape[0], P.shape[1]\n",
        "    policy = np.zeros((H, S), dtype=np.int)\n",
        "    V = np.zeros((H + 1, S))\n",
        "    for h in reversed(range(H)):\n",
        "        for s in range(S):\n",
        "            \"\"\" \n",
        "            Here, we compute V^*(h, s) using the Bellman optimality equation:\n",
        "\n",
        "            V[h, s] = max_a  R[s, a] + sum_{s'} P[s, a, s']*V[h+1, s']\n",
        "            \"\"\"\n",
        "            for a in range(A):\n",
        "                tmp = R[s, a] + np.dot(P[s, a],  V[h + 1])\n",
        "                if (a == 0) or (tmp > V[h, s]):\n",
        "                    policy[h, s] = a\n",
        "                    V[h, s] = tmp\n",
        "    return V, policy"
      ],
      "execution_count": 0,
      "outputs": []
    },
    {
      "cell_type": "markdown",
      "metadata": {
        "id": "pvmhRCN07yKs",
        "colab_type": "text"
      },
      "source": [
        "Compute solution"
      ]
    },
    {
      "cell_type": "markdown",
      "metadata": {
        "id": "v1nCGWuw7yKy",
        "colab_type": "text"
      },
      "source": [
        "## UCBVI (UCRL with exploration bonus)"
      ]
    },
    {
      "cell_type": "code",
      "metadata": {
        "id": "pk0v7jg67yK7",
        "colab_type": "code",
        "colab": {}
      },
      "source": [
        "def UCRL(mdp, H, nb_episodes, VSTAR=0, scale_factor = .5):\n",
        "    S, A = mdp.S, mdp.A\n",
        "    policy = np.zeros((H, S), dtype=np.int)\n",
        "    Phat = np.ones((S,A,S)) / S\n",
        "    Rhat = np.zeros((S,A))\n",
        "    N_sas = np.zeros((S,A,S), dtype=np.int)\n",
        "    N_sa = np.zeros((S,A), dtype=np.int)\n",
        "    episode_rewards = np.zeros((nb_episodes,))\n",
        "  \n",
        "    V = H*np.ones((H + 1, S))\n",
        "    V[H, :] = 0\n",
        "\n",
        "    S_sa = np.zeros((S,A)) \n",
        "    for k in range(nb_episodes):\n",
        "        sum_rewards = 0\n",
        "        # run optimistic value iteration\n",
        "        V.fill(0)\n",
        "        for h in reversed(range(H)):\n",
        "            for s in range(S):\n",
        "                temp = np.zeros(A)\n",
        "                for a in range(A):\n",
        "                    nn = N_sa[s, a] + 1\n",
        "                    bonus = scale_factor*np.sqrt(1.0/nn)\n",
        "                    temp[a] = Rhat[s, a] + Phat[s, a].dot(V[h + 1]) + bonus\n",
        "\n",
        "                V[h, s] = min(H-h, temp.max())\n",
        "                policy[h, s] = temp.argmax()\n",
        "        # execute policy\n",
        "        initial_state = state = mdp.reset()\n",
        "        for h in range(H):\n",
        "            action = policy[h][state]\n",
        "            next_state, reward, done, _ = mdp.step(action)\n",
        "\n",
        "            sum_rewards += reward\n",
        "            \n",
        "            # update estimates (Phat, Rhat, N_sa, N_sas)\n",
        "            N_sa[state, action] += 1\n",
        "            N_sas[state, action, next_state] +=1\n",
        "            S_sa[state, action] += reward\n",
        "            \n",
        "            Rhat[state, action] = S_sa[state, action]/N_sa[state, action]\n",
        "            Phat[state, action, :] = N_sas[state, action, :]/N_sa[state, action]\n",
        "\n",
        "            \n",
        "            state = next_state\n",
        "        \n",
        "        # update regret\n",
        "        episode_rewards[k] = sum_rewards\n",
        "        \n",
        "        if k % 5 == 0 or k==1:\n",
        "            print(\"rewards[{}]: {}\".format(k, episode_rewards[k]), end = \", \")\n",
        "            print(\"Number of visited states: \", (N_sa.sum(axis=1) > 0).sum() )\n",
        "            # print(V[0, :])\n",
        "\n",
        "    return episode_rewards, N_sa, Rhat, Phat, policy"
      ],
      "execution_count": 0,
      "outputs": []
    },
    {
      "cell_type": "code",
      "metadata": {
        "id": "0-UTr3Gq7yK_",
        "colab_type": "code",
        "outputId": "12d43b8d-c3ba-403e-a32e-d4d6dcf8915e",
        "colab": {
          "base_uri": "https://localhost:8080/",
          "height": 1000
        }
      },
      "source": [
        "nb_repetitions = 1\n",
        "nb_episodes = 500\n",
        "rewards = np.zeros((nb_repetitions, nb_episodes))\n",
        "for it in range(nb_repetitions):\n",
        "    print(\"Running simulation: {}\".format(it))\n",
        "    rewards[it], N_sa, Rhat, Phat, policy = UCRL(mdp=env, H=H, nb_episodes=nb_episodes)"
      ],
      "execution_count": 0,
      "outputs": [
        {
          "output_type": "stream",
          "text": [
            "Running simulation: 0\n",
            "rewards[0]: 0.0, Number of visited states:  8\n",
            "rewards[1]: 0.0, Number of visited states:  9\n",
            "rewards[5]: 0.0, Number of visited states:  25\n",
            "rewards[10]: 0.0, Number of visited states:  45\n",
            "rewards[15]: 0.0, Number of visited states:  50\n",
            "rewards[20]: 0.0, Number of visited states:  53\n",
            "rewards[25]: 0.0, Number of visited states:  57\n",
            "rewards[30]: 1.0, Number of visited states:  59\n",
            "rewards[35]: 0.0, Number of visited states:  59\n",
            "rewards[40]: 1.0, Number of visited states:  59\n",
            "rewards[45]: 0.0, Number of visited states:  65\n",
            "rewards[50]: 1.0, Number of visited states:  65\n",
            "rewards[55]: 0.0, Number of visited states:  65\n",
            "rewards[60]: 1.0, Number of visited states:  66\n",
            "rewards[65]: 0.0, Number of visited states:  66\n",
            "rewards[70]: 1.0, Number of visited states:  66\n",
            "rewards[75]: 0.0, Number of visited states:  67\n",
            "rewards[80]: 1.0, Number of visited states:  67\n",
            "rewards[85]: 0.0, Number of visited states:  68\n",
            "rewards[90]: 0.0, Number of visited states:  68\n",
            "rewards[95]: 0.0, Number of visited states:  68\n",
            "rewards[100]: 0.0, Number of visited states:  68\n",
            "rewards[105]: 1.0, Number of visited states:  68\n",
            "rewards[110]: 0.0, Number of visited states:  68\n",
            "rewards[115]: 1.0, Number of visited states:  68\n",
            "rewards[120]: 0.0, Number of visited states:  68\n",
            "rewards[125]: 0.0, Number of visited states:  68\n",
            "rewards[130]: 1.0, Number of visited states:  68\n",
            "rewards[135]: 0.0, Number of visited states:  68\n",
            "rewards[140]: 1.0, Number of visited states:  69\n",
            "rewards[145]: 0.0, Number of visited states:  69\n",
            "rewards[150]: 1.0, Number of visited states:  69\n",
            "rewards[155]: 0.0, Number of visited states:  69\n",
            "rewards[160]: 0.0, Number of visited states:  69\n",
            "rewards[165]: 0.0, Number of visited states:  69\n",
            "rewards[170]: 1.0, Number of visited states:  69\n",
            "rewards[175]: 0.0, Number of visited states:  69\n",
            "rewards[180]: 1.0, Number of visited states:  69\n",
            "rewards[185]: 1.0, Number of visited states:  69\n",
            "rewards[190]: 1.0, Number of visited states:  69\n",
            "rewards[195]: 1.0, Number of visited states:  69\n",
            "rewards[200]: 1.0, Number of visited states:  69\n",
            "rewards[205]: 1.0, Number of visited states:  69\n",
            "rewards[210]: 1.0, Number of visited states:  69\n",
            "rewards[215]: 1.0, Number of visited states:  69\n",
            "rewards[220]: 0.0, Number of visited states:  69\n",
            "rewards[225]: 1.0, Number of visited states:  69\n",
            "rewards[230]: 0.0, Number of visited states:  69\n",
            "rewards[235]: 1.0, Number of visited states:  69\n",
            "rewards[240]: 1.0, Number of visited states:  69\n",
            "rewards[245]: 1.0, Number of visited states:  69\n",
            "rewards[250]: 1.0, Number of visited states:  69\n",
            "rewards[255]: 0.0, Number of visited states:  69\n",
            "rewards[260]: 0.0, Number of visited states:  69\n",
            "rewards[265]: 1.0, Number of visited states:  69\n",
            "rewards[270]: 0.0, Number of visited states:  69\n",
            "rewards[275]: 0.0, Number of visited states:  69\n",
            "rewards[280]: 1.0, Number of visited states:  69\n",
            "rewards[285]: 1.0, Number of visited states:  69\n",
            "rewards[290]: 1.0, Number of visited states:  69\n",
            "rewards[295]: 1.0, Number of visited states:  69\n",
            "rewards[300]: 1.0, Number of visited states:  69\n",
            "rewards[305]: 0.0, Number of visited states:  69\n",
            "rewards[310]: 1.0, Number of visited states:  69\n",
            "rewards[315]: 1.0, Number of visited states:  69\n",
            "rewards[320]: 1.0, Number of visited states:  69\n",
            "rewards[325]: 1.0, Number of visited states:  69\n",
            "rewards[330]: 0.0, Number of visited states:  69\n",
            "rewards[335]: 1.0, Number of visited states:  69\n",
            "rewards[340]: 1.0, Number of visited states:  69\n",
            "rewards[345]: 1.0, Number of visited states:  69\n",
            "rewards[350]: 1.0, Number of visited states:  69\n",
            "rewards[355]: 0.0, Number of visited states:  69\n",
            "rewards[360]: 1.0, Number of visited states:  69\n",
            "rewards[365]: 1.0, Number of visited states:  69\n",
            "rewards[370]: 1.0, Number of visited states:  69\n",
            "rewards[375]: 0.0, Number of visited states:  69\n",
            "rewards[380]: 1.0, Number of visited states:  69\n",
            "rewards[385]: 1.0, Number of visited states:  69\n",
            "rewards[390]: 1.0, Number of visited states:  69\n",
            "rewards[395]: 1.0, Number of visited states:  69\n",
            "rewards[400]: 0.0, Number of visited states:  69\n",
            "rewards[405]: 1.0, Number of visited states:  69\n",
            "rewards[410]: 1.0, Number of visited states:  69\n",
            "rewards[415]: 1.0, Number of visited states:  69\n",
            "rewards[420]: 0.0, Number of visited states:  69\n",
            "rewards[425]: 1.0, Number of visited states:  69\n",
            "rewards[430]: 1.0, Number of visited states:  70\n",
            "rewards[435]: 1.0, Number of visited states:  70\n",
            "rewards[440]: 1.0, Number of visited states:  70\n",
            "rewards[445]: 1.0, Number of visited states:  70\n",
            "rewards[450]: 1.0, Number of visited states:  70\n",
            "rewards[455]: 1.0, Number of visited states:  70\n",
            "rewards[460]: 1.0, Number of visited states:  70\n",
            "rewards[465]: 1.0, Number of visited states:  70\n",
            "rewards[470]: 1.0, Number of visited states:  70\n",
            "rewards[475]: 1.0, Number of visited states:  70\n",
            "rewards[480]: 1.0, Number of visited states:  70\n",
            "rewards[485]: 0.0, Number of visited states:  70\n",
            "rewards[490]: 1.0, Number of visited states:  70\n",
            "rewards[495]: 0.0, Number of visited states:  70\n"
          ],
          "name": "stdout"
        }
      ]
    },
    {
      "cell_type": "code",
      "metadata": {
        "id": "defhQH1NNQUD",
        "colab_type": "code",
        "outputId": "03e2b775-263e-4709-a5a3-9025f75ff335",
        "colab": {
          "base_uri": "https://localhost:8080/",
          "height": 282
        }
      },
      "source": [
        "plt.plot(np.cumsum(rewards), label=\"Sum of rewards:\")\n",
        "plt.legend()"
      ],
      "execution_count": 0,
      "outputs": [
        {
          "output_type": "execute_result",
          "data": {
            "text/plain": [
              "<matplotlib.legend.Legend at 0x7ff34fde3748>"
            ]
          },
          "metadata": {
            "tags": []
          },
          "execution_count": 15
        },
        {
          "output_type": "display_data",
          "data": {
            "image/png": "[encoded data removed]",
            "text/plain": [
              "<Figure size 432x288 with 1 Axes>"
            ]
          },
          "metadata": {
            "tags": []
          }
        }
      ]
    },
    {
      "cell_type": "code",
      "metadata": {
        "id": "uhDoPAA5YCLJ",
        "colab_type": "code",
        "outputId": "91d7c02f-45e6-49c7-c0da-7d502a576ed6",
        "colab": {
          "base_uri": "https://localhost:8080/",
          "height": 438
        }
      },
      "source": [
        "# The following code is will be used to visualize the environments.\n",
        "def show_video(directory):\n",
        "    html = []\n",
        "    for mp4 in Path(directory).glob(\"*.mp4\"):\n",
        "        video_b64 = base64.b64encode(mp4.read_bytes())\n",
        "        html.append('''<video alt=\"{}\" autoplay \n",
        "                      loop controls style=\"height: 400px;\">\n",
        "                      <source src=\"data:video/mp4;base64,{}\" type=\"video/mp4\" />\n",
        "                 </video>'''.format(mp4, video_b64.decode('ascii')))\n",
        "    ipythondisplay.display(ipythondisplay.HTML(data=\"<br>\".join(html)))\n",
        "    \n",
        "def make_seed(seed):\n",
        "    np.random.seed(seed=seed)\n",
        "    torch.manual_seed(seed=seed)\n",
        "  \n",
        "from pyvirtualdisplay import Display\n",
        "display = Display(visible=0, size=(1400, 900))\n",
        "display.start()\n",
        "\n",
        "env = Monitor(env, \"./gym-results\", force=True, video_callable=lambda episode: True)\n",
        "\n",
        "state = env.reset()\n",
        "for hh in range(H): \n",
        "    action = policy[hh, state]\n",
        "    state, reward, done, info = env.step(action)\n",
        "env.close()\n",
        "show_video(\"./gym-results\")"
      ],
      "execution_count": 0,
      "outputs": [
        {
          "output_type": "stream",
          "text": [
            "xdpyinfo was not found, X start can not be checked! Please install xdpyinfo!\n"
          ],
          "name": "stderr"
        },
        {
          "output_type": "display_data",
          "data": {
            "text/html": [
              "<video alt=\"gym-results/openaigym.video.2.951.video000000.mp4\" autoplay \n",
              "                      loop controls style=\"height: 400px;\">\n",
              "                      <source src=\"data:video/mp4;base64,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\" type=\"video/mp4\" />\n",
              "                 </video>"
            ],
            "text/plain": [
              "<IPython.core.display.HTML object>"
            ]
          },
          "metadata": {
            "tags": []
          }
        }
      ]
    },
    {
      "cell_type": "code",
      "metadata": {
        "id": "cQHVzme5kMEH",
        "colab_type": "code",
        "colab": {}
      },
      "source": [
        ""
      ],
      "execution_count": 0,
      "outputs": []
    }
  ]
}