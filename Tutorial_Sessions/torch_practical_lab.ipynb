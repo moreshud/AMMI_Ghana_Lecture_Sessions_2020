{
 "cells": [
  {
   "cell_type": "code",
   "execution_count": 1,
   "metadata": {},
   "outputs": [],
   "source": [
    "import torch\n",
    "import matplotlib.pyplot as plt"
   ]
  },
  {
   "cell_type": "code",
   "execution_count": 2,
   "metadata": {},
   "outputs": [
    {
     "data": {
      "text/plain": [
       "tensor([[1., 2., 1., 1., 1., 1., 1., 1., 1., 1., 1., 2., 1.],\n",
       "        [2., 2., 2., 2., 2., 2., 2., 2., 2., 2., 2., 2., 2.],\n",
       "        [1., 2., 1., 1., 1., 1., 1., 1., 1., 1., 1., 2., 1.],\n",
       "        [1., 2., 1., 3., 3., 1., 1., 1., 3., 3., 1., 1., 2.],\n",
       "        [1., 2., 1., 3., 3., 1., 1., 1., 3., 3., 1., 1., 2.],\n",
       "        [1., 2., 1., 1., 1., 1., 1., 1., 1., 1., 1., 2., 1.],\n",
       "        [2., 2., 2., 2., 2., 2., 2., 2., 2., 2., 2., 2., 2.],\n",
       "        [1., 2., 1., 1., 1., 1., 1., 1., 1., 1., 1., 2., 1.],\n",
       "        [1., 2., 1., 3., 3., 1., 1., 1., 3., 3., 1., 1., 2.],\n",
       "        [1., 2., 1., 3., 3., 1., 1., 1., 3., 3., 1., 1., 2.],\n",
       "        [1., 2., 1., 1., 1., 1., 1., 1., 1., 1., 1., 2., 1.],\n",
       "        [2., 2., 2., 2., 2., 2., 2., 2., 2., 2., 2., 2., 2.],\n",
       "        [1., 2., 1., 1., 1., 1., 1., 1., 1., 1., 1., 2., 1.]])"
      ]
     },
     "execution_count": 2,
     "metadata": {},
     "output_type": "execute_result"
    }
   ],
   "source": [
    "A = torch.full((3,13), 1)\n",
    "(A[1,:], A[:,[1, -2]]) = (2, 2)\n",
    "B = torch.full((2,13), 1)\n",
    "B[:,[1,-1]],B[:,[3,4,8,9]] = (2,3)\n",
    "torch.cat((A,B,A,B,A))"
   ]
  },
  {
   "cell_type": "code",
   "execution_count": 3,
   "metadata": {},
   "outputs": [
    {
     "name": "stdout",
     "output_type": "stream",
     "text": [
      "CPU times: user 2 µs, sys: 1 µs, total: 3 µs\n",
      "Wall time: 5.01 µs\n",
      "\n",
      " tensor([[ 0.5472, -1.8213, -0.0068,  ...,  0.5031, -2.5860, -0.8178],\n",
      "        [ 0.4329, -0.0163, -0.1046,  ...,  0.5563,  0.5289,  1.7182],\n",
      "        [ 0.7524, -0.9363, -0.2939,  ..., -0.2255, -0.3119, -0.8302],\n",
      "        ...,\n",
      "        [ 0.4858, -0.1944, -1.2193,  ...,  0.4941,  0.4412,  0.0070],\n",
      "        [-1.8077, -0.0087, -0.7904,  ...,  0.0068,  0.0873,  0.6496],\n",
      "        [-0.1867, -1.1338, -3.6676,  ...,  0.0306, -0.2121,  0.1408]])\n",
      "\n",
      " The floating point is given as 23527449780.53625\n"
     ]
    }
   ],
   "source": [
    "%time\n",
    "import time\n",
    "t1 = time.perf_counter()\n",
    "C = torch.empty((500,500)).normal_(mean =0, std = 1)\n",
    "D = torch.empty((500,500)).normal_(mean =0, std = 1)\n",
    "\n",
    "t2 = time.perf_counter()\n",
    "print(\"\\n\",C * D)\n",
    "\n",
    "flop = 500**3/(t2 - t1)\n",
    "print(\"\\n The floating point is given as {}\".format(flop))\n"
   ]
  },
  {
   "cell_type": "code",
   "execution_count": 4,
   "metadata": {},
   "outputs": [],
   "source": [
    "def mul_row(m):\n",
    "    for row in range(m.shape[0]):\n",
    "        m[row,:] = (row+1)*m[row,:]\n",
    "    return m"
   ]
  },
  {
   "cell_type": "code",
   "execution_count": 5,
   "metadata": {},
   "outputs": [
    {
     "name": "stdout",
     "output_type": "stream",
     "text": [
      "CPU times: user 2 µs, sys: 0 ns, total: 2 µs\n",
      "Wall time: 5.72 µs\n"
     ]
    },
    {
     "data": {
      "text/plain": [
       "tensor([[2., 2., 2., 2., 2., 2., 2., 2.],\n",
       "        [4., 4., 4., 4., 4., 4., 4., 4.],\n",
       "        [6., 6., 6., 6., 6., 6., 6., 6.],\n",
       "        [8., 8., 8., 8., 8., 8., 8., 8.]])"
      ]
     },
     "execution_count": 5,
     "metadata": {},
     "output_type": "execute_result"
    }
   ],
   "source": [
    "%time\n",
    "mul_row(torch.full((4,8), 2))"
   ]
  },
  {
   "cell_type": "code",
   "execution_count": 6,
   "metadata": {},
   "outputs": [
    {
     "name": "stdout",
     "output_type": "stream",
     "text": [
      "CPU times: user 4 µs, sys: 1e+03 ns, total: 5 µs\n",
      "Wall time: 9.78 µs\n"
     ]
    },
    {
     "data": {
      "text/plain": [
       "tensor([[   3.,    3.,    3.,  ...,    3.,    3.,    3.],\n",
       "        [   6.,    6.,    6.,  ...,    6.,    6.,    6.],\n",
       "        [   9.,    9.,    9.,  ...,    9.,    9.,    9.],\n",
       "        ...,\n",
       "        [2994., 2994., 2994.,  ..., 2994., 2994., 2994.],\n",
       "        [2997., 2997., 2997.,  ..., 2997., 2997., 2997.],\n",
       "        [3000., 3000., 3000.,  ..., 3000., 3000., 3000.]])"
      ]
     },
     "execution_count": 6,
     "metadata": {},
     "output_type": "execute_result"
    }
   ],
   "source": [
    "%time\n",
    "mul_row(torch.full((1000,400), 3))"
   ]
  },
  {
   "cell_type": "code",
   "execution_count": 7,
   "metadata": {},
   "outputs": [],
   "source": [
    "from dlc_practical_prologue import load_data"
   ]
  },
  {
   "cell_type": "code",
   "execution_count": 8,
   "metadata": {},
   "outputs": [
    {
     "name": "stdout",
     "output_type": "stream",
     "text": [
      "* Using MNIST\n"
     ]
    },
    {
     "name": "stderr",
     "output_type": "stream",
     "text": [
      "/usr/local/lib/python3.7/dist-packages/torchvision/datasets/mnist.py:55: UserWarning: train_data has been renamed data\n",
      "  warnings.warn(\"train_data has been renamed data\")\n",
      "/usr/local/lib/python3.7/dist-packages/torchvision/datasets/mnist.py:45: UserWarning: train_labels has been renamed targets\n",
      "  warnings.warn(\"train_labels has been renamed targets\")\n",
      "/usr/local/lib/python3.7/dist-packages/torchvision/datasets/mnist.py:60: UserWarning: test_data has been renamed data\n",
      "  warnings.warn(\"test_data has been renamed data\")\n",
      "/usr/local/lib/python3.7/dist-packages/torchvision/datasets/mnist.py:50: UserWarning: test_labels has been renamed targets\n",
      "  warnings.warn(\"test_labels has been renamed targets\")\n"
     ]
    },
    {
     "name": "stdout",
     "output_type": "stream",
     "text": [
      "** Reduce the data-set (use --full for the full thing)\n",
      "** Use 1000 train and 1000 test samples\n"
     ]
    }
   ],
   "source": [
    "train_input, train_target, test_input, test_target = load_data(one_hot_labels=True, normalize=True)"
   ]
  },
  {
   "cell_type": "code",
   "execution_count": 9,
   "metadata": {},
   "outputs": [],
   "source": [
    "def sigma(x):\n",
    "    return torch.tanh(x)\n",
    "\n",
    "def dsigma(x):\n",
    "    return (1-sigma(x)**2)\n",
    "\n",
    "def loss(v, t):\n",
    "    return (v-t).pow(2).sum()\n",
    "\n",
    "def dloss(v, t):\n",
    "    return 2*(v-t)"
   ]
  },
  {
   "cell_type": "code",
   "execution_count": 10,
   "metadata": {},
   "outputs": [
    {
     "data": {
      "text/plain": [
       "tensor([[-0.3782, -0.3782, -0.3782,  ..., -0.3782, -0.3782, -0.3782],\n",
       "        [-0.3782, -0.3782, -0.3782,  ..., -0.3782, -0.3782, -0.3782],\n",
       "        [-0.3782, -0.3782, -0.3782,  ..., -0.3782, -0.3782, -0.3782],\n",
       "        ...,\n",
       "        [-0.3782, -0.3782, -0.3782,  ..., -0.3782, -0.3782, -0.3782],\n",
       "        [-0.3782, -0.3782, -0.3782,  ..., -0.3782, -0.3782, -0.3782],\n",
       "        [-0.3782, -0.3782, -0.3782,  ..., -0.3782, -0.3782, -0.3782]])"
      ]
     },
     "execution_count": 10,
     "metadata": {},
     "output_type": "execute_result"
    }
   ],
   "source": [
    "train_input *= .9\n",
    "train_input"
   ]
  },
  {
   "cell_type": "code",
   "execution_count": null,
   "metadata": {},
   "outputs": [],
   "source": []
  },
  {
   "cell_type": "code",
   "execution_count": 11,
   "metadata": {},
   "outputs": [],
   "source": [
    "#A session with israel"
   ]
  },
  {
   "cell_type": "code",
   "execution_count": 12,
   "metadata": {},
   "outputs": [
    {
     "name": "stdout",
     "output_type": "stream",
     "text": [
      "* Using MNIST\n",
      "** Reduce the data-set (use --full for the full thing)\n",
      "** Use 1000 train and 1000 test samples\n"
     ]
    }
   ],
   "source": [
    "from torch.autograd import Variable\n",
    "from torch import nn\n",
    "from torch.nn import functional as F\n",
    "\n",
    "import dlc_practical_prologue as prologue\n",
    "\n",
    "train_input, train_target, test_input, test_target = \\\n",
    "    prologue.load_data(one_hot_labels = True, normalize = True, flatten = False)\n",
    "\n",
    "class Net(nn.Module):\n",
    "    def __init__(self):\n",
    "        super(Net, self).__init__()\n",
    "        self.conv1 = nn.Conv2d(1, 32, kernel_size=5)\n",
    "        self.conv2 = nn.Conv2d(32, 64, kernel_size=5)\n",
    "        self.fc1 = nn.Linear(256, 200)\n",
    "        self.fc2 = nn.Linear(200, 10)\n",
    "\n",
    "    def forward(self, x):\n",
    "        x = F.relu(F.max_pool2d(self.conv1(x), kernel_size=3, stride=3))\n",
    "        x = F.relu(F.max_pool2d(self.conv2(x), kernel_size=2, stride=2))\n",
    "        x = F.relu(self.fc1(x.view(-1, 256)))\n",
    "        x = self.fc2(x)\n",
    "        return x"
   ]
  },
  {
   "cell_type": "code",
   "execution_count": 13,
   "metadata": {},
   "outputs": [],
   "source": [
    "def train(model, train_input, train_target, eta, mini_batch_size, epoch):\n",
    "    criterion = nn.MSELoss()\n",
    "#     eta, mini_batch_size = 1e-1, 100    \n",
    "    loss_con = []\n",
    "    \n",
    "    for e in range(0, epoch):\n",
    "        sum_loss = 0\n",
    "        # We do this with mini-batches\n",
    "        for b in range(0, train_input.size(0), mini_batch_size):\n",
    "            output = model(train_input.narrow(0, b, mini_batch_size))\n",
    "            loss = criterion(output, train_target.narrow(0, b, mini_batch_size))\n",
    "            sum_loss = sum_loss + loss.item()\n",
    "            model.zero_grad()\n",
    "            loss.backward()\n",
    "            for p in model.parameters():\n",
    "                p.data.sub_(eta * p.grad.data)\n",
    "        loss_con.append(sum_loss)\n",
    "#         print(e, sum_loss)\n",
    "    return loss_con, p#e, sum_loss"
   ]
  },
  {
   "cell_type": "code",
   "execution_count": 14,
   "metadata": {},
   "outputs": [],
   "source": [
    "model = Net()\n",
    "train_input, train_target = Variable(train_input), Variable(train_target)"
   ]
  },
  {
   "cell_type": "code",
   "execution_count": 15,
   "metadata": {},
   "outputs": [],
   "source": [
    "loss, param = train(model, train_input, train_target, eta = 1e-1, mini_batch_size = 100, epoch = 25)"
   ]
  },
  {
   "cell_type": "code",
   "execution_count": 16,
   "metadata": {},
   "outputs": [
    {
     "data": {
      "text/plain": [
       "[<matplotlib.lines.Line2D at 0x7f23efba0d30>]"
      ]
     },
     "execution_count": 16,
     "metadata": {},
     "output_type": "execute_result"
    },
    {
     "data": {
      "image/png": "[encoded data removed]",
      "text/plain": [
       "<Figure size 432x288 with 1 Axes>"
      ]
     },
     "metadata": {
      "needs_background": "light"
     },
     "output_type": "display_data"
    }
   ],
   "source": [
    "plt.plot([i for  i in range(len(loss))],loss )"
   ]
  },
  {
   "cell_type": "code",
   "execution_count": 17,
   "metadata": {},
   "outputs": [],
   "source": [
    "def compute_nb_errors(model, test_input, test_target, mini_batch_size):\n",
    "    model.eval()\n",
    "    correctHits=0\n",
    "    total=0\n",
    "#     accuracy=0\n",
    "    sum_loss = 0\n",
    "#     for data,output in test_input, test_target:\n",
    "    for b in range(0, test_input.size(0), mini_batch_size):\n",
    "        prediction = model(test_input.narrow(0, b, mini_batch_size))\n",
    "        output = test_target.narrow(0, b, mini_batch_size)\n",
    "#         loss = criterion(prediction, output)\n",
    "#         sum_loss = sum_loss + loss.item()\n",
    "        _,prediction = torch.max(prediction.data,1)  #returns max as well as its index\n",
    "        output = torch.argmax(output, 1)\n",
    "#         t1 = torch.argmax(output, dim=1)\n",
    "#         acc = int(sum(prediction == t1))/t1.size(0)\n",
    "        total += output.size(0)\n",
    "        correctHits += (prediction==output).sum().item()\n",
    "        accuracy = (correctHits/total)*100\n",
    "    print('Accuracy = '+str(accuracy))\n",
    "#         print(acc)\n",
    "#     return acc#prediction"
   ]
  },
  {
   "cell_type": "code",
   "execution_count": 18,
   "metadata": {},
   "outputs": [
    {
     "name": "stdout",
     "output_type": "stream",
     "text": [
      "Accuracy = 84.39999999999999\n"
     ]
    }
   ],
   "source": [
    "compute_nb_errors(model, test_input, test_target, 1)"
   ]
  },
  {
   "cell_type": "code",
   "execution_count": 19,
   "metadata": {},
   "outputs": [],
   "source": [
    "class Net1(nn.Module):\n",
    "    def __init__(self, n_hidden):\n",
    "        super(Net1, self).__init__()\n",
    "        self.n_hidden = n_hidden\n",
    "        self.conv1 = nn.Conv2d(1, 32, kernel_size=5)\n",
    "        self.conv2 = nn.Conv2d(32, 64, kernel_size=5)\n",
    "        self.fc1 = nn.Linear(256, self.n_hidden)\n",
    "        self.fc2 = nn.Linear(self.n_hidden, 10)\n",
    "\n",
    "    def forward(self, x):\n",
    "        x = F.relu(F.max_pool2d(self.conv1(x), kernel_size=3, stride=3))\n",
    "        x = F.relu(F.max_pool2d(self.conv2(x), kernel_size=2, stride=2))\n",
    "        x = F.relu(self.fc1(x.view(-1, 256)))\n",
    "        x = self.fc2(x)\n",
    "        return x"
   ]
  },
  {
   "cell_type": "code",
   "execution_count": 20,
   "metadata": {},
   "outputs": [],
   "source": [
    "model = Net1(200)"
   ]
  },
  {
   "cell_type": "code",
   "execution_count": 21,
   "metadata": {},
   "outputs": [],
   "source": [
    "def n_shape(n, p, k, s):\n",
    "    return (n +2*p-k)/s +1"
   ]
  },
  {
   "cell_type": "code",
   "execution_count": 36,
   "metadata": {},
   "outputs": [
    {
     "data": {
      "text/plain": [
       "106.0"
      ]
     },
     "execution_count": 36,
     "metadata": {},
     "output_type": "execute_result"
    }
   ],
   "source": [
    "n_shape(110, 0,5,1)\n",
    "#n_shape for conv and pooling\n",
    "#output-vol: n_shape*n_shape* conv_channel_in\n",
    "#param_cal: [k*k*RGB(3)] * conv_channel_in\n",
    "#pooling layer no parameter"
   ]
  },
  {
   "cell_type": "code",
   "execution_count": 23,
   "metadata": {},
   "outputs": [],
   "source": [
    "class Net2(nn.Module):\n",
    "    def __init__(self, n_hidden):\n",
    "        super(Net2, self).__init__()\n",
    "        self.n_hidden = n_hidden\n",
    "        self.conv1 = nn.Conv2d(1, 32, kernel_size=5)\n",
    "        self.conv2 = nn.Conv2d(32, 64, kernel_size=5)\n",
    "        self.conv3 = nn.Conv2d(64, 128, kernel_size=2, padding=2)\n",
    "        self.fc1 = nn.Linear(512, self.n_hidden)\n",
    "        self.fc2 = nn.Linear(self.n_hidden, 10)\n",
    "\n",
    "    def forward(self, x):\n",
    "        x = F.relu(F.max_pool2d(self.conv1(x), kernel_size=3, stride=3))\n",
    "        x = F.relu(F.max_pool2d(self.conv2(x), kernel_size=2, stride=2))\n",
    "        x = F.relu(F.max_pool2d(self.conv3(x), kernel_size=2, stride=2))\n",
    "        x = F.relu(self.fc1(x.view(-1, 512)))\n",
    "        x = self.fc2(x)\n",
    "        return x"
   ]
  },
  {
   "cell_type": "code",
   "execution_count": 26,
   "metadata": {},
   "outputs": [
    {
     "data": {
      "text/plain": [
       "Net2(\n",
       "  (conv1): Conv2d(1, 32, kernel_size=(5, 5), stride=(1, 1))\n",
       "  (conv2): Conv2d(32, 64, kernel_size=(5, 5), stride=(1, 1))\n",
       "  (conv3): Conv2d(64, 128, kernel_size=(2, 2), stride=(1, 1), padding=(2, 2))\n",
       "  (fc1): Linear(in_features=512, out_features=5, bias=True)\n",
       "  (fc2): Linear(in_features=5, out_features=10, bias=True)\n",
       ")"
      ]
     },
     "execution_count": 26,
     "metadata": {},
     "output_type": "execute_result"
    }
   ],
   "source": [
    "Net2(5)"
   ]
  },
  {
   "cell_type": "code",
   "execution_count": 32,
   "metadata": {},
   "outputs": [],
   "source": [
    "class MLP(nn.Module):\n",
    "    def __init__(self, input_dim,  hidden_dim, output_dim):\n",
    "        super(MLP, self).__init__()\n",
    "        self.fc1 = nn.Linear(input_dim,  hidden_dim)\n",
    "        self.tanh = nn.Tanh()\n",
    "        self.fc2 = nn.Linear(hidden_dim, output_dim)\n",
    "    \n",
    "    def forward(self, x):\n",
    "        out = self.fc1(x)\n",
    "        out = self.tanh(out)\n",
    "        out = self.fc2(out)\n",
    "        return out\n",
    "        "
   ]
  },
  {
   "cell_type": "code",
   "execution_count": 33,
   "metadata": {},
   "outputs": [
    {
     "data": {
      "text/plain": [
       "MLP(\n",
       "  (fc1): Linear(in_features=3, out_features=2, bias=True)\n",
       "  (tanh): Tanh()\n",
       "  (fc2): Linear(in_features=2, out_features=4, bias=True)\n",
       ")"
      ]
     },
     "execution_count": 33,
     "metadata": {},
     "output_type": "execute_result"
    }
   ],
   "source": [
    "MLP(3,2,4)"
   ]
  }
 ],
 "metadata": {
  "kernelspec": {
   "display_name": "Python 3",
   "language": "python",
   "name": "python3"
  },
  "language_info": {
   "codemirror_mode": {
    "name": "ipython",
    "version": 3
   },
   "file_extension": ".py",
   "mimetype": "text/x-python",
   "name": "python",
   "nbconvert_exporter": "python",
   "pygments_lexer": "ipython3",
   "version": "3.7.3"
  }
 },
 "nbformat": 4,
 "nbformat_minor": 4
}
