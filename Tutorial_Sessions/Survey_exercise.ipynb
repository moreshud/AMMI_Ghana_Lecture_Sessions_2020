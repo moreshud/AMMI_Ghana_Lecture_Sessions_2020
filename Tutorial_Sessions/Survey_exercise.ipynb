{
 "cells": [
  {
   "cell_type": "markdown",
   "metadata": {},
   "source": [
    "### Survey Questions for python tutorial\n",
    "\n",
    "#### You are not expected to consult any resources for this, except python syntax. This is just to access the area to focus for tutorial"
   ]
  },
  {
   "cell_type": "markdown",
   "metadata": {},
   "source": [
    "1.\n",
    "We'll pass you an array of two numbers. Return the sum of those two numbers plus the sum of all the numbers between them. The lowest number will not always come first.\n",
    "\n",
    "For example, sumAll([4,1]) should return 10 because sum of all the numbers between 1 and 4 (both inclusive) is 10."
   ]
  },
  {
   "cell_type": "code",
   "execution_count": 1,
   "metadata": {},
   "outputs": [
    {
     "name": "stdout",
     "output_type": "stream",
     "text": [
      "10 10 45\n"
     ]
    }
   ],
   "source": [
    "def sumAll(arr):\n",
    "    result = 0\n",
    "    for i in range(min(arr),max(arr)+1):\n",
    "        result += i\n",
    "    return result\n",
    "\n",
    "print(sumAll([1, 4]), sumAll([4, 1]), sumAll([5, 10]))\n",
    "\n",
    "#turn this to list comprehension"
   ]
  },
  {
   "cell_type": "markdown",
   "metadata": {},
   "source": [
    "2.\n",
    "Compare two arrays and return a new array with any items only found in one of the two given arrays, but not both. In other words, return the symmetric difference of the two arrays."
   ]
  },
  {
   "cell_type": "code",
   "execution_count": 2,
   "metadata": {},
   "outputs": [
    {
     "name": "stdout",
     "output_type": "stream",
     "text": [
      "([], '===', '[4]') \n",
      " ([], '===', \"['pink wool']\") \n",
      " ([], '===', \"['piglet', 4]\")\n"
     ]
    }
   ],
   "source": [
    "def diffArray(arr1, arr2):\n",
    "    def diff(a,b):\n",
    "        c = []\n",
    "        for i in range(len(a)):\n",
    "            if a[i] not in b:\n",
    "                c.append((a[i]))\n",
    "        return c\n",
    "    res = diff(arr1, arr2) + diff(arr2,arr1)\n",
    "    return ([], \"===\", str(res))\n",
    "\n",
    "print(diffArray([1, 2, 3, 5], [1, 2, 3, 4, 5]),'\\n',\n",
    "diffArray([\"diorite\", \"andesite\", \"grass\", \"dirt\", \"pink wool\", \"dead shrub\"], \n",
    "          [\"diorite\", \"andesite\", \"grass\", \"dirt\", \"dead shrub\"]),'\\n',\n",
    "diffArray([1, \"calf\", 3, \"piglet\"], [1, \"calf\", 3, 4]))"
   ]
  },
  {
   "cell_type": "markdown",
   "metadata": {},
   "source": [
    "3.\n",
    "You will be provided with an initial array (the first argument in the destroyer function), followed by one or more arguments. Remove all elements from the initial array that are of the same value as these arguments."
   ]
  },
  {
   "cell_type": "code",
   "execution_count": 3,
   "metadata": {},
   "outputs": [
    {
     "name": "stdout",
     "output_type": "stream",
     "text": [
      "[1, 1] \n",
      " [1, 5, 1] \n",
      " [1] \n",
      " [] \n",
      " ['hamburger']\n"
     ]
    }
   ],
   "source": [
    "def destroyer(arr, *arg):\n",
    "    for i in arg:\n",
    "        if i in arr:\n",
    "            arr.remove(i)\n",
    "        else:\n",
    "            return arr\n",
    "    return destroyer(arr, *arg)\n",
    "\n",
    "\n",
    "print(\n",
    "destroyer([1, 2, 3, 1, 2, 3], 2, 3),\"\\n\",destroyer([1, 2, 3, 5, 1, 2, 3], 2, 3),\"\\n\",\n",
    "destroyer([3, 5, 1, 2, 2], 2, 3, 5),\"\\n\",destroyer([2, 3, 2, 3], 2, 3),\"\\n\",\n",
    "destroyer([\"tree\", \"hamburger\", 53], \"tree\", 53))"
   ]
  },
  {
   "cell_type": "code",
   "execution_count": null,
   "metadata": {},
   "outputs": [],
   "source": []
  },
  {
   "cell_type": "markdown",
   "metadata": {},
   "source": [
    "4.You will be provided with a list of characters, create a function that return a reverse of that list"
   ]
  },
  {
   "cell_type": "code",
   "execution_count": 4,
   "metadata": {},
   "outputs": [
    {
     "name": "stdout",
     "output_type": "stream",
     "text": [
      "['r', 'a', 'b', ' ', 'o', 'o', 'f'] \n",
      " ['e', 'l', 'p', 'm', 'a', 'x', 'e']\n"
     ]
    }
   ],
   "source": [
    "def reverse(chars):\n",
    "    return chars[::-1]\n",
    "\n",
    "print(reverse(['f', 'o', 'o', ' ', 'b', 'a', 'r']),\"\\n\",\n",
    "reverse(['e', 'x', 'a', 'm', 'p', 'l', 'e']))"
   ]
  },
  {
   "cell_type": "code",
   "execution_count": null,
   "metadata": {},
   "outputs": [],
   "source": []
  },
  {
   "cell_type": "markdown",
   "metadata": {},
   "source": [
    "5.Given a magazine, see if a ransom note could have been written using the letters in the magazine."
   ]
  },
  {
   "cell_type": "code",
   "execution_count": 6,
   "metadata": {},
   "outputs": [],
   "source": [
    "def match_note_to_magazine(ransom_note, magazine):\n",
    "    # TODO: Implement me\n",
    "    pass\n",
    "\n",
    "match_note_to_magazine('aa', 'aab') # should return true\n",
    "match_note_to_magazine('cc', 'bgghh') # should return true"
   ]
  },
  {
   "cell_type": "markdown",
   "metadata": {},
   "source": [
    "6. Define a python class that describe various attributes and methods or actions for a car"
   ]
  },
  {
   "cell_type": "code",
   "execution_count": 13,
   "metadata": {},
   "outputs": [],
   "source": [
    "class Car:\n",
    "    # Implement me\n",
    "    def __int__(self, name, door, side_mirror, widescreen, tyres):\n",
    "        self.name = name,\n",
    "        self.door = door,\n",
    "        self.side_mirror = side_mirror,\n",
    "        self.widescreen = widescreen,\n",
    "        self.tyres = tyres\n",
    "    \n",
    "    def on_rest(self, name):\n",
    "        return \"Your {} is likely to be at car park. Certainly not on the move!\".format(self.name)\n",
    "    \n",
    "    def on_motion(self, name, velocity, time):\n",
    "        acc = velocity/time\n",
    "        disp = velocity * time\n",
    "        return \"Motion Metrics! \\n Acceration: {.2f} \\n Displacement: {.2f}\".format(acc,disp)\n"
   ]
  },
  {
   "cell_type": "code",
   "execution_count": 15,
   "metadata": {},
   "outputs": [
    {
     "data": {
      "text/plain": [
       "<__main__.Car at 0x7f3f505f7400>"
      ]
     },
     "execution_count": 15,
     "metadata": {},
     "output_type": "execute_result"
    }
   ],
   "source": [
    "# Dino = Car(\"Limousine\", 4,2,2,4)\n",
    "Car()"
   ]
  },
  {
   "cell_type": "code",
   "execution_count": 11,
   "metadata": {},
   "outputs": [],
   "source": [
    "class Parrot:\n",
    "    \n",
    "    # instance attributes\n",
    "    def __int__(self, name, door, side_mirror, widescreen, tyres):\n",
    "        self.name = name,\n",
    "        self.door = door,\n",
    "        self.side_mirror = side_mirror,\n",
    "        self.widescreen = widescreen,\n",
    "        self.tyres = tyres\n",
    "    \n",
    "    def on_rest(self, name):\n",
    "        return \"Your {} is likely to be at car park. Certainly not on the move!\".format(self.name)\n",
    "    \n",
    "    def on_motion(self, name, velocity, time):\n",
    "        acc = velocity/time\n",
    "        disp = velocity * time\n",
    "        return \"Motion Metrics! \\n Acceration: {.2f} \\n Displacement: {.2f}\".format(acc,disp)\n",
    "\n",
    "# instantiate the object\n"
   ]
  },
  {
   "cell_type": "markdown",
   "metadata": {},
   "source": [
    "7. Define a python class that take two parameters name and the year someone was born. add a method or action to that class that print the age of that person from today's date"
   ]
  },
  {
   "cell_type": "code",
   "execution_count": 12,
   "metadata": {},
   "outputs": [],
   "source": [
    "class Person:\n",
    "    \n",
    "    # instance attributes\n",
    "    def __init__(self, name, age):\n",
    "        self.name = name\n",
    "        self.age = age\n",
    "    \n",
    "    # instance method\n",
    "    def sporting(self, sport):\n",
    "        return \"{} loves playing {}\".format(self.name, song)\n",
    "\n",
    "    def prog(self, lang):\n",
    "        return \"{} is is learning OOP with {}\".format(self.name, lang)\n",
    "\n",
    "# instantiate the object\n",
    "mosh = Person(\"Blu\", 10)"
   ]
  },
  {
   "cell_type": "markdown",
   "metadata": {},
   "source": [
    "Please comment on all the areas that you feel you are strugling with in python"
   ]
  },
  {
   "cell_type": "markdown",
   "metadata": {},
   "source": [
    "Question 5 is not clear\n",
    "I need more grasp of the concept of object oriented programming"
   ]
  },
  {
   "cell_type": "code",
   "execution_count": null,
   "metadata": {},
   "outputs": [],
   "source": []
  }
 ],
 "metadata": {
  "kernelspec": {
   "display_name": "Python 3",
   "language": "python",
   "name": "python3"
  },
  "language_info": {
   "codemirror_mode": {
    "name": "ipython",
    "version": 3
   },
   "file_extension": ".py",
   "mimetype": "text/x-python",
   "name": "python",
   "nbconvert_exporter": "python",
   "pygments_lexer": "ipython3",
   "version": "3.7.3"
  }
 },
 "nbformat": 4,
 "nbformat_minor": 4
}
